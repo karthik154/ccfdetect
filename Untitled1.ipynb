{
  "nbformat": 4,
  "nbformat_minor": 0,
  "metadata": {
    "colab": {
      "name": "Untitled1.ipynb",
      "provenance": [],
      "mount_file_id": "13esoJp03iYJHdKtrUVLC1ubMwXt0M-ZO",
      "authorship_tag": "ABX9TyPrsqaSVeo4Ph0VvD10nNqZ",
      "include_colab_link": true
    },
    "kernelspec": {
      "name": "python3",
      "display_name": "Python 3"
    }
  },
  "cells": [
    {
      "cell_type": "markdown",
      "metadata": {
        "id": "view-in-github",
        "colab_type": "text"
      },
      "source": [
        "<a href=\"https://colab.research.google.com/github/gnanacherry980/ccfdetect/blob/master/Untitled1.ipynb\" target=\"_parent\"><img src=\"https://colab.research.google.com/assets/colab-badge.svg\" alt=\"Open In Colab\"/></a>"
      ]
    },
    {
      "cell_type": "code",
      "metadata": {
        "id": "ulSRK5IJLw96"
      },
      "source": [
        "import numpy as np # linear algebra\n",
        "import pandas as pd # data processing, CSV file I/O (e.g. pd.read_csv)\n",
        "import matplotlib.pyplot as plt\n",
        "import seaborn as sns"
      ],
      "execution_count": null,
      "outputs": []
    },
    {
      "cell_type": "code",
      "metadata": {
        "id": "Mrs5NhPCL6jt"
      },
      "source": [
        "from sklearn.preprocessing import StandardScaler\n",
        "from sklearn.model_selection import train_test_split"
      ],
      "execution_count": null,
      "outputs": []
    },
    {
      "cell_type": "code",
      "metadata": {
        "colab": {
          "base_uri": "https://localhost:8080/",
          "height": 224
        },
        "id": "uKxdtByjMAPh",
        "outputId": "07738a77-2b08-41b3-d822-a844423f1ecb"
      },
      "source": [
        "df=pd.read_csv('/content/drive/MyDrive/creditcard.csv')\n",
        "df.head()"
      ],
      "execution_count": null,
      "outputs": [
        {
          "output_type": "execute_result",
          "data": {
            "text/html": [
              "<div>\n",
              "<style scoped>\n",
              "    .dataframe tbody tr th:only-of-type {\n",
              "        vertical-align: middle;\n",
              "    }\n",
              "\n",
              "    .dataframe tbody tr th {\n",
              "        vertical-align: top;\n",
              "    }\n",
              "\n",
              "    .dataframe thead th {\n",
              "        text-align: right;\n",
              "    }\n",
              "</style>\n",
              "<table border=\"1\" class=\"dataframe\">\n",
              "  <thead>\n",
              "    <tr style=\"text-align: right;\">\n",
              "      <th></th>\n",
              "      <th>Time</th>\n",
              "      <th>V1</th>\n",
              "      <th>V2</th>\n",
              "      <th>V3</th>\n",
              "      <th>V4</th>\n",
              "      <th>V5</th>\n",
              "      <th>V6</th>\n",
              "      <th>V7</th>\n",
              "      <th>V8</th>\n",
              "      <th>V9</th>\n",
              "      <th>V10</th>\n",
              "      <th>V11</th>\n",
              "      <th>V12</th>\n",
              "      <th>V13</th>\n",
              "      <th>V14</th>\n",
              "      <th>V15</th>\n",
              "      <th>V16</th>\n",
              "      <th>V17</th>\n",
              "      <th>V18</th>\n",
              "      <th>V19</th>\n",
              "      <th>V20</th>\n",
              "      <th>V21</th>\n",
              "      <th>V22</th>\n",
              "      <th>V23</th>\n",
              "      <th>V24</th>\n",
              "      <th>V25</th>\n",
              "      <th>V26</th>\n",
              "      <th>V27</th>\n",
              "      <th>V28</th>\n",
              "      <th>Amount</th>\n",
              "      <th>Class</th>\n",
              "    </tr>\n",
              "  </thead>\n",
              "  <tbody>\n",
              "    <tr>\n",
              "      <th>0</th>\n",
              "      <td>0.0</td>\n",
              "      <td>-1.359807</td>\n",
              "      <td>-0.072781</td>\n",
              "      <td>2.536347</td>\n",
              "      <td>1.378155</td>\n",
              "      <td>-0.338321</td>\n",
              "      <td>0.462388</td>\n",
              "      <td>0.239599</td>\n",
              "      <td>0.098698</td>\n",
              "      <td>0.363787</td>\n",
              "      <td>0.090794</td>\n",
              "      <td>-0.551600</td>\n",
              "      <td>-0.617801</td>\n",
              "      <td>-0.991390</td>\n",
              "      <td>-0.311169</td>\n",
              "      <td>1.468177</td>\n",
              "      <td>-0.470401</td>\n",
              "      <td>0.207971</td>\n",
              "      <td>0.025791</td>\n",
              "      <td>0.403993</td>\n",
              "      <td>0.251412</td>\n",
              "      <td>-0.018307</td>\n",
              "      <td>0.277838</td>\n",
              "      <td>-0.110474</td>\n",
              "      <td>0.066928</td>\n",
              "      <td>0.128539</td>\n",
              "      <td>-0.189115</td>\n",
              "      <td>0.133558</td>\n",
              "      <td>-0.021053</td>\n",
              "      <td>149.62</td>\n",
              "      <td>0</td>\n",
              "    </tr>\n",
              "    <tr>\n",
              "      <th>1</th>\n",
              "      <td>0.0</td>\n",
              "      <td>1.191857</td>\n",
              "      <td>0.266151</td>\n",
              "      <td>0.166480</td>\n",
              "      <td>0.448154</td>\n",
              "      <td>0.060018</td>\n",
              "      <td>-0.082361</td>\n",
              "      <td>-0.078803</td>\n",
              "      <td>0.085102</td>\n",
              "      <td>-0.255425</td>\n",
              "      <td>-0.166974</td>\n",
              "      <td>1.612727</td>\n",
              "      <td>1.065235</td>\n",
              "      <td>0.489095</td>\n",
              "      <td>-0.143772</td>\n",
              "      <td>0.635558</td>\n",
              "      <td>0.463917</td>\n",
              "      <td>-0.114805</td>\n",
              "      <td>-0.183361</td>\n",
              "      <td>-0.145783</td>\n",
              "      <td>-0.069083</td>\n",
              "      <td>-0.225775</td>\n",
              "      <td>-0.638672</td>\n",
              "      <td>0.101288</td>\n",
              "      <td>-0.339846</td>\n",
              "      <td>0.167170</td>\n",
              "      <td>0.125895</td>\n",
              "      <td>-0.008983</td>\n",
              "      <td>0.014724</td>\n",
              "      <td>2.69</td>\n",
              "      <td>0</td>\n",
              "    </tr>\n",
              "    <tr>\n",
              "      <th>2</th>\n",
              "      <td>1.0</td>\n",
              "      <td>-1.358354</td>\n",
              "      <td>-1.340163</td>\n",
              "      <td>1.773209</td>\n",
              "      <td>0.379780</td>\n",
              "      <td>-0.503198</td>\n",
              "      <td>1.800499</td>\n",
              "      <td>0.791461</td>\n",
              "      <td>0.247676</td>\n",
              "      <td>-1.514654</td>\n",
              "      <td>0.207643</td>\n",
              "      <td>0.624501</td>\n",
              "      <td>0.066084</td>\n",
              "      <td>0.717293</td>\n",
              "      <td>-0.165946</td>\n",
              "      <td>2.345865</td>\n",
              "      <td>-2.890083</td>\n",
              "      <td>1.109969</td>\n",
              "      <td>-0.121359</td>\n",
              "      <td>-2.261857</td>\n",
              "      <td>0.524980</td>\n",
              "      <td>0.247998</td>\n",
              "      <td>0.771679</td>\n",
              "      <td>0.909412</td>\n",
              "      <td>-0.689281</td>\n",
              "      <td>-0.327642</td>\n",
              "      <td>-0.139097</td>\n",
              "      <td>-0.055353</td>\n",
              "      <td>-0.059752</td>\n",
              "      <td>378.66</td>\n",
              "      <td>0</td>\n",
              "    </tr>\n",
              "    <tr>\n",
              "      <th>3</th>\n",
              "      <td>1.0</td>\n",
              "      <td>-0.966272</td>\n",
              "      <td>-0.185226</td>\n",
              "      <td>1.792993</td>\n",
              "      <td>-0.863291</td>\n",
              "      <td>-0.010309</td>\n",
              "      <td>1.247203</td>\n",
              "      <td>0.237609</td>\n",
              "      <td>0.377436</td>\n",
              "      <td>-1.387024</td>\n",
              "      <td>-0.054952</td>\n",
              "      <td>-0.226487</td>\n",
              "      <td>0.178228</td>\n",
              "      <td>0.507757</td>\n",
              "      <td>-0.287924</td>\n",
              "      <td>-0.631418</td>\n",
              "      <td>-1.059647</td>\n",
              "      <td>-0.684093</td>\n",
              "      <td>1.965775</td>\n",
              "      <td>-1.232622</td>\n",
              "      <td>-0.208038</td>\n",
              "      <td>-0.108300</td>\n",
              "      <td>0.005274</td>\n",
              "      <td>-0.190321</td>\n",
              "      <td>-1.175575</td>\n",
              "      <td>0.647376</td>\n",
              "      <td>-0.221929</td>\n",
              "      <td>0.062723</td>\n",
              "      <td>0.061458</td>\n",
              "      <td>123.50</td>\n",
              "      <td>0</td>\n",
              "    </tr>\n",
              "    <tr>\n",
              "      <th>4</th>\n",
              "      <td>2.0</td>\n",
              "      <td>-1.158233</td>\n",
              "      <td>0.877737</td>\n",
              "      <td>1.548718</td>\n",
              "      <td>0.403034</td>\n",
              "      <td>-0.407193</td>\n",
              "      <td>0.095921</td>\n",
              "      <td>0.592941</td>\n",
              "      <td>-0.270533</td>\n",
              "      <td>0.817739</td>\n",
              "      <td>0.753074</td>\n",
              "      <td>-0.822843</td>\n",
              "      <td>0.538196</td>\n",
              "      <td>1.345852</td>\n",
              "      <td>-1.119670</td>\n",
              "      <td>0.175121</td>\n",
              "      <td>-0.451449</td>\n",
              "      <td>-0.237033</td>\n",
              "      <td>-0.038195</td>\n",
              "      <td>0.803487</td>\n",
              "      <td>0.408542</td>\n",
              "      <td>-0.009431</td>\n",
              "      <td>0.798278</td>\n",
              "      <td>-0.137458</td>\n",
              "      <td>0.141267</td>\n",
              "      <td>-0.206010</td>\n",
              "      <td>0.502292</td>\n",
              "      <td>0.219422</td>\n",
              "      <td>0.215153</td>\n",
              "      <td>69.99</td>\n",
              "      <td>0</td>\n",
              "    </tr>\n",
              "  </tbody>\n",
              "</table>\n",
              "</div>"
            ],
            "text/plain": [
              "   Time        V1        V2        V3  ...       V27       V28  Amount  Class\n",
              "0   0.0 -1.359807 -0.072781  2.536347  ...  0.133558 -0.021053  149.62      0\n",
              "1   0.0  1.191857  0.266151  0.166480  ... -0.008983  0.014724    2.69      0\n",
              "2   1.0 -1.358354 -1.340163  1.773209  ... -0.055353 -0.059752  378.66      0\n",
              "3   1.0 -0.966272 -0.185226  1.792993  ...  0.062723  0.061458  123.50      0\n",
              "4   2.0 -1.158233  0.877737  1.548718  ...  0.219422  0.215153   69.99      0\n",
              "\n",
              "[5 rows x 31 columns]"
            ]
          },
          "metadata": {
            "tags": []
          },
          "execution_count": 6
        }
      ]
    },
    {
      "cell_type": "code",
      "metadata": {
        "colab": {
          "base_uri": "https://localhost:8080/"
        },
        "id": "NY6annawNLm5",
        "outputId": "92c5e49f-5b64-47c9-e423-b6611f84dd9c"
      },
      "source": [
        "df.info()"
      ],
      "execution_count": null,
      "outputs": [
        {
          "output_type": "stream",
          "text": [
            "<class 'pandas.core.frame.DataFrame'>\n",
            "RangeIndex: 284807 entries, 0 to 284806\n",
            "Data columns (total 31 columns):\n",
            " #   Column  Non-Null Count   Dtype  \n",
            "---  ------  --------------   -----  \n",
            " 0   Time    284807 non-null  float64\n",
            " 1   V1      284807 non-null  float64\n",
            " 2   V2      284807 non-null  float64\n",
            " 3   V3      284807 non-null  float64\n",
            " 4   V4      284807 non-null  float64\n",
            " 5   V5      284807 non-null  float64\n",
            " 6   V6      284807 non-null  float64\n",
            " 7   V7      284807 non-null  float64\n",
            " 8   V8      284807 non-null  float64\n",
            " 9   V9      284807 non-null  float64\n",
            " 10  V10     284807 non-null  float64\n",
            " 11  V11     284807 non-null  float64\n",
            " 12  V12     284807 non-null  float64\n",
            " 13  V13     284807 non-null  float64\n",
            " 14  V14     284807 non-null  float64\n",
            " 15  V15     284807 non-null  float64\n",
            " 16  V16     284807 non-null  float64\n",
            " 17  V17     284807 non-null  float64\n",
            " 18  V18     284807 non-null  float64\n",
            " 19  V19     284807 non-null  float64\n",
            " 20  V20     284807 non-null  float64\n",
            " 21  V21     284807 non-null  float64\n",
            " 22  V22     284807 non-null  float64\n",
            " 23  V23     284807 non-null  float64\n",
            " 24  V24     284807 non-null  float64\n",
            " 25  V25     284807 non-null  float64\n",
            " 26  V26     284807 non-null  float64\n",
            " 27  V27     284807 non-null  float64\n",
            " 28  V28     284807 non-null  float64\n",
            " 29  Amount  284807 non-null  float64\n",
            " 30  Class   284807 non-null  int64  \n",
            "dtypes: float64(30), int64(1)\n",
            "memory usage: 67.4 MB\n"
          ],
          "name": "stdout"
        }
      ]
    },
    {
      "cell_type": "code",
      "metadata": {
        "colab": {
          "base_uri": "https://localhost:8080/"
        },
        "id": "Vy3sEzltNO8z",
        "outputId": "19201bd3-2f41-432d-9ee0-7cab7033fcf0"
      },
      "source": [
        "df.shape"
      ],
      "execution_count": null,
      "outputs": [
        {
          "output_type": "execute_result",
          "data": {
            "text/plain": [
              "(284807, 31)"
            ]
          },
          "metadata": {
            "tags": []
          },
          "execution_count": 8
        }
      ]
    },
    {
      "cell_type": "code",
      "metadata": {
        "colab": {
          "base_uri": "https://localhost:8080/"
        },
        "id": "2ktXcPR9NVP6",
        "outputId": "15ded221-bea7-485d-f803-cf9c4509c6ed"
      },
      "source": [
        "df.isnull().values.any()"
      ],
      "execution_count": null,
      "outputs": [
        {
          "output_type": "execute_result",
          "data": {
            "text/plain": [
              "False"
            ]
          },
          "metadata": {
            "tags": []
          },
          "execution_count": 9
        }
      ]
    },
    {
      "cell_type": "code",
      "metadata": {
        "colab": {
          "base_uri": "https://localhost:8080/",
          "height": 366
        },
        "id": "u4zsPYOwNeaL",
        "outputId": "56125640-bfab-443e-a2ac-65d1a93334d3"
      },
      "source": [
        "print((\"Distribution of fraudulent points: {:.2f}%\".format(len(df[df['Class']==1])/len(df)*100)))\n",
        "sns.countplot(df['Class'])\n",
        "plt.title('Class Distribution')\n",
        "plt.xticks(range(2),['Normal','Fraud'])\n",
        "plt.show()"
      ],
      "execution_count": null,
      "outputs": [
        {
          "output_type": "stream",
          "text": [
            "Distribution of fraudulent points: 0.17%\n"
          ],
          "name": "stdout"
        },
        {
          "output_type": "stream",
          "text": [
            "/usr/local/lib/python3.7/dist-packages/seaborn/_decorators.py:43: FutureWarning: Pass the following variable as a keyword arg: x. From version 0.12, the only valid positional argument will be `data`, and passing other arguments without an explicit keyword will result in an error or misinterpretation.\n",
            "  FutureWarning\n"
          ],
          "name": "stderr"
        },
        {
          "output_type": "display_data",
          "data": {
            "image/png": "[encoded data removed]",
            "text/plain": [
              "<Figure size 432x288 with 1 Axes>"
            ]
          },
          "metadata": {
            "tags": [],
            "needs_background": "light"
          }
        }
      ]
    },
    {
      "cell_type": "code",
      "metadata": {
        "colab": {
          "base_uri": "https://localhost:8080/"
        },
        "id": "OzC7krWINhJj",
        "outputId": "f0d82801-7fe4-432e-8e91-5e39fdf6cdde"
      },
      "source": [
        "normal = df[df['Class']==0]\n",
        "fraud = df[df['Class']==1]\n",
        "print(\"Normal datapoints: \", normal.shape[0])\n",
        "print(\"Fraud datapoints: \", fraud.shape[0])\n"
      ],
      "execution_count": null,
      "outputs": [
        {
          "output_type": "stream",
          "text": [
            "Normal datapoints:  284315\n",
            "Fraud datapoints:  492\n"
          ],
          "name": "stdout"
        }
      ]
    },
    {
      "cell_type": "code",
      "metadata": {
        "colab": {
          "base_uri": "https://localhost:8080/"
        },
        "id": "kFloGujoNrJK",
        "outputId": "b57d99ca-75f0-4347-9529-56c12bdfeb2e"
      },
      "source": [
        "normal['Amount'].describe()"
      ],
      "execution_count": null,
      "outputs": [
        {
          "output_type": "execute_result",
          "data": {
            "text/plain": [
              "count    284315.000000\n",
              "mean         88.291022\n",
              "std         250.105092\n",
              "min           0.000000\n",
              "25%           5.650000\n",
              "50%          22.000000\n",
              "75%          77.050000\n",
              "max       25691.160000\n",
              "Name: Amount, dtype: float64"
            ]
          },
          "metadata": {
            "tags": []
          },
          "execution_count": 12
        }
      ]
    },
    {
      "cell_type": "code",
      "metadata": {
        "colab": {
          "base_uri": "https://localhost:8080/"
        },
        "id": "ZBwAbrHbNu2r",
        "outputId": "19a6ac65-51ea-4144-aa73-ac3294ecc8f7"
      },
      "source": [
        "fraud['Amount'].describe()"
      ],
      "execution_count": null,
      "outputs": [
        {
          "output_type": "execute_result",
          "data": {
            "text/plain": [
              "count     492.000000\n",
              "mean      122.211321\n",
              "std       256.683288\n",
              "min         0.000000\n",
              "25%         1.000000\n",
              "50%         9.250000\n",
              "75%       105.890000\n",
              "max      2125.870000\n",
              "Name: Amount, dtype: float64"
            ]
          },
          "metadata": {
            "tags": []
          },
          "execution_count": 13
        }
      ]
    },
    {
      "cell_type": "code",
      "metadata": {
        "colab": {
          "base_uri": "https://localhost:8080/",
          "height": 677
        },
        "id": "dCNO2oPPN0PP",
        "outputId": "16966295-c2cc-406b-bcef-e1afeb484a01"
      },
      "source": [
        "f, (ax1, ax2) = plt.subplots(2, 1, sharex=True, figsize = (10,10) )\n",
        "f.suptitle('Amount per transaction by class')\n",
        "\n",
        "bins = 10\n",
        "\n",
        "ax1.hist(fraud.Amount, bins = bins)\n",
        "ax1.set_title('Fraud')\n",
        "\n",
        "ax2.hist(normal.Amount, bins = bins)\n",
        "ax2.set_title('Normal')\n",
        "\n",
        "ax1.grid()\n",
        "ax2.grid()\n",
        "plt.xlabel('Amount ($)')\n",
        "plt.ylabel('Number of Transactions')\n",
        "plt.xlim((0, 20000))\n",
        "plt.yscale('log')\n",
        "plt.show();"
      ],
      "execution_count": null,
      "outputs": [
        {
          "output_type": "display_data",
          "data": {
            "image/png": "[encoded data removed]",
            "text/plain": [
              "<Figure size 720x720 with 2 Axes>"
            ]
          },
          "metadata": {
            "tags": [],
            "needs_background": "light"
          }
        }
      ]
    },
    {
      "cell_type": "code",
      "metadata": {
        "colab": {
          "base_uri": "https://localhost:8080/",
          "height": 677
        },
        "id": "UX5g9c4-OAJt",
        "outputId": "fead7a01-96a0-446c-9002-8ac5b3cd4d78"
      },
      "source": [
        "f, (ax1, ax2) = plt.subplots(2, 1, sharex=True, figsize=(10,10))\n",
        "f.suptitle('Time of transaction vs Amount by class')\n",
        "\n",
        "ax1.scatter(fraud.Time, fraud.Amount, marker='.')\n",
        "ax1.set_title('Fraud')\n",
        "ax1.grid()\n",
        "ax2.scatter(normal.Time, normal.Amount, marker='.')\n",
        "ax2.set_title('Normal')\n",
        "ax2.grid()\n",
        "plt.xlabel('Time (in Seconds)')\n",
        "plt.ylabel('Amount')\n",
        "plt.show()\n"
      ],
      "execution_count": null,
      "outputs": [
        {
          "output_type": "display_data",
          "data": {
            "image/png": "[encoded data removed]",
            "text/plain": [
              "<Figure size 720x720 with 2 Axes>"
            ]
          },
          "metadata": {
            "tags": [],
            "needs_background": "light"
          }
        }
      ]
    },
    {
      "cell_type": "code",
      "metadata": {
        "id": "MD_ysoQiOKTW"
      },
      "source": [
        "data = df.drop(['Time'], axis =1)"
      ],
      "execution_count": null,
      "outputs": []
    },
    {
      "cell_type": "code",
      "metadata": {
        "colab": {
          "base_uri": "https://localhost:8080/"
        },
        "id": "yjO7wYolOS79",
        "outputId": "cc1feb22-da3e-4c43-f2eb-f4b7fd81ed2b"
      },
      "source": [
        "X_train, X_test = train_test_split(data, test_size=0.2, random_state=42)\n",
        "X_train = X_train[X_train.Class == 0]\n",
        "X_train = X_train.drop(['Class'], axis=1)\n",
        "y_test = X_test['Class']\n",
        "X_test = X_test.drop(['Class'], axis=1)\n",
        "X_train = X_train\n",
        "X_test = X_test\n",
        "print(X_train.shape)\n",
        "\n",
        "print(X_test.shape)\n",
        "print(y_test.shape)\n"
      ],
      "execution_count": null,
      "outputs": [
        {
          "output_type": "stream",
          "text": [
            "(227451, 29)\n",
            "(56962, 29)\n",
            "(56962,)\n"
          ],
          "name": "stdout"
        }
      ]
    },
    {
      "cell_type": "code",
      "metadata": {
        "id": "hWEknHkaOcqu"
      },
      "source": [
        "scaler = StandardScaler().fit(X_train.Amount.values.reshape(-1,1))\n",
        "X_train['Amount'] = scaler.transform(X_train.Amount.values.reshape(-1,1))\n",
        "X_test['Amount'] = scaler.transform(X_test.Amount.values.reshape(-1,1))\n"
      ],
      "execution_count": null,
      "outputs": []
    },
    {
      "cell_type": "code",
      "metadata": {
        "colab": {
          "base_uri": "https://localhost:8080/"
        },
        "id": "m9YRfU1xUSi-",
        "outputId": "b64a9736-92f4-4d5a-eccb-30a0b412c14f"
      },
      "source": [
        "X_train.shape"
      ],
      "execution_count": null,
      "outputs": [
        {
          "output_type": "execute_result",
          "data": {
            "text/plain": [
              "(227451, 29)"
            ]
          },
          "metadata": {
            "tags": []
          },
          "execution_count": 19
        }
      ]
    },
    {
      "cell_type": "code",
      "metadata": {
        "id": "w5EE76KZUYnT"
      },
      "source": [
        "from keras.layers import Input, Dense\n",
        "from keras import regularizers\n",
        "from keras.models import Model, load_model\n",
        "from keras.callbacks import ModelCheckpoint, TensorBoard"
      ],
      "execution_count": null,
      "outputs": []
    },
    {
      "cell_type": "code",
      "metadata": {
        "id": "Ff2vV8FCUiwu"
      },
      "source": [
        "input_dim = X_train.shape[1]\n",
        "encoding_dim = 14"
      ],
      "execution_count": null,
      "outputs": []
    },
    {
      "cell_type": "code",
      "metadata": {
        "id": "grXxcl9nUp08"
      },
      "source": [
        "input_layer = Input(shape=(input_dim,))\n",
        "encoder = Dense(encoding_dim, activation=\"tanh\", \n",
        "                activity_regularizer=regularizers.l1(10e-5))(input_layer)\n",
        "encoder = Dense(int(encoding_dim / 2), activation=\"relu\")(encoder)\n",
        "\n",
        "decoder = Dense(int(encoding_dim / 2), activation='tanh')(encoder)\n",
        "decoder = Dense(input_dim, activation='relu')(decoder)\n",
        "\n",
        "autoencoder = Model(inputs=input_layer, outputs=decoder)"
      ],
      "execution_count": null,
      "outputs": []
    },
    {
      "cell_type": "code",
      "metadata": {
        "colab": {
          "base_uri": "https://localhost:8080/"
        },
        "id": "dadQGJ3NU2Tt",
        "outputId": "8d1fd5f6-1989-429a-e3a0-1781b7ba544f"
      },
      "source": [
        "X_train.shape"
      ],
      "execution_count": null,
      "outputs": [
        {
          "output_type": "execute_result",
          "data": {
            "text/plain": [
              "(227451, 29)"
            ]
          },
          "metadata": {
            "tags": []
          },
          "execution_count": 23
        }
      ]
    },
    {
      "cell_type": "code",
      "metadata": {
        "colab": {
          "base_uri": "https://localhost:8080/"
        },
        "id": "dGW_QR0tU6rN",
        "outputId": "73114136-0dde-461c-b2c9-ad4646e18d21"
      },
      "source": [
        "nb_epoch = 100\n",
        "batch_size = 32\n",
        "\n",
        "autoencoder.compile(optimizer='adam', \n",
        "                    loss='mean_squared_error', \n",
        "                    )\n",
        "\n",
        "checkpointer = ModelCheckpoint(filepath=\"model.h5\",\n",
        "                               verbose=0,\n",
        "                               save_best_only=True)\n",
        "tensorboard = TensorBoard(log_dir='./logs',\n",
        "                          histogram_freq=0,\n",
        "                          write_graph=True,\n",
        "                          write_images=True)\n",
        "\n",
        "history = autoencoder.fit(X_train, X_train,\n",
        "                    epochs=nb_epoch,\n",
        "                    batch_size=batch_size,\n",
        "                    shuffle=True,\n",
        "                    validation_split=0.3,\n",
        "                    verbose=1,\n",
        "                    callbacks=[checkpointer, tensorboard]).history"
      ],
      "execution_count": null,
      "outputs": [
        {
          "output_type": "stream",
          "text": [
            "Epoch 1/100\n",
            "4976/4976 [==============================] - 9s 2ms/step - loss: 0.8823 - val_loss: 0.8101\n",
            "Epoch 2/100\n",
            "4976/4976 [==============================] - 8s 2ms/step - loss: 0.7360 - val_loss: 0.7743\n",
            "Epoch 3/100\n",
            "4976/4976 [==============================] - 8s 2ms/step - loss: 0.7207 - val_loss: 0.7584\n",
            "Epoch 4/100\n",
            "4976/4976 [==============================] - 8s 2ms/step - loss: 0.7075 - val_loss: 0.7511\n",
            "Epoch 5/100\n",
            "4976/4976 [==============================] - 8s 2ms/step - loss: 0.6995 - val_loss: 0.7452\n",
            "Epoch 6/100\n",
            "4976/4976 [==============================] - 8s 2ms/step - loss: 0.6937 - val_loss: 0.7425\n",
            "Epoch 7/100\n",
            "4976/4976 [==============================] - 8s 2ms/step - loss: 0.6873 - val_loss: 0.7422\n",
            "Epoch 8/100\n",
            "4976/4976 [==============================] - 8s 2ms/step - loss: 0.6861 - val_loss: 0.7382\n",
            "Epoch 9/100\n",
            "4976/4976 [==============================] - 8s 2ms/step - loss: 0.6888 - val_loss: 0.7349\n",
            "Epoch 10/100\n",
            "4976/4976 [==============================] - 8s 2ms/step - loss: 0.6983 - val_loss: 0.7357\n",
            "Epoch 11/100\n",
            "4976/4976 [==============================] - 8s 2ms/step - loss: 0.6877 - val_loss: 0.7338\n",
            "Epoch 12/100\n",
            "4976/4976 [==============================] - 8s 2ms/step - loss: 0.6842 - val_loss: 0.7317\n",
            "Epoch 13/100\n",
            "4976/4976 [==============================] - 8s 2ms/step - loss: 0.6796 - val_loss: 0.7313\n",
            "Epoch 14/100\n",
            "4976/4976 [==============================] - 8s 2ms/step - loss: 0.6911 - val_loss: 0.7311\n",
            "Epoch 15/100\n",
            "4976/4976 [==============================] - 8s 2ms/step - loss: 0.7039 - val_loss: 0.7326\n",
            "Epoch 16/100\n",
            "4976/4976 [==============================] - 8s 2ms/step - loss: 0.6805 - val_loss: 0.7335\n",
            "Epoch 17/100\n",
            "4976/4976 [==============================] - 8s 2ms/step - loss: 0.6920 - val_loss: 0.7291\n",
            "Epoch 18/100\n",
            "4976/4976 [==============================] - 8s 2ms/step - loss: 0.6918 - val_loss: 0.7297\n",
            "Epoch 19/100\n",
            "4976/4976 [==============================] - 8s 2ms/step - loss: 0.6813 - val_loss: 0.7293\n",
            "Epoch 20/100\n",
            "4976/4976 [==============================] - 8s 2ms/step - loss: 0.6724 - val_loss: 0.7290\n",
            "Epoch 21/100\n",
            "4976/4976 [==============================] - 8s 2ms/step - loss: 0.7004 - val_loss: 0.7290\n",
            "Epoch 22/100\n",
            "4976/4976 [==============================] - 8s 2ms/step - loss: 0.6823 - val_loss: 0.7274\n",
            "Epoch 23/100\n",
            "4976/4976 [==============================] - 8s 2ms/step - loss: 0.6834 - val_loss: 0.7277\n",
            "Epoch 24/100\n",
            "4976/4976 [==============================] - 8s 2ms/step - loss: 0.6818 - val_loss: 0.7287\n",
            "Epoch 25/100\n",
            "4976/4976 [==============================] - 8s 2ms/step - loss: 0.6795 - val_loss: 0.7277\n",
            "Epoch 26/100\n",
            "4976/4976 [==============================] - 8s 2ms/step - loss: 0.6835 - val_loss: 0.7273\n",
            "Epoch 27/100\n",
            "4976/4976 [==============================] - 8s 2ms/step - loss: 0.6813 - val_loss: 0.7276\n",
            "Epoch 28/100\n",
            "4976/4976 [==============================] - 8s 2ms/step - loss: 0.6752 - val_loss: 0.7271\n",
            "Epoch 29/100\n",
            "4976/4976 [==============================] - 8s 2ms/step - loss: 0.6915 - val_loss: 0.7279\n",
            "Epoch 30/100\n",
            "4976/4976 [==============================] - 8s 2ms/step - loss: 0.6742 - val_loss: 0.7278\n",
            "Epoch 31/100\n",
            "4976/4976 [==============================] - 8s 2ms/step - loss: 0.6864 - val_loss: 0.7264\n",
            "Epoch 32/100\n",
            "4976/4976 [==============================] - 8s 2ms/step - loss: 0.6876 - val_loss: 0.7267\n",
            "Epoch 33/100\n",
            "4976/4976 [==============================] - 8s 2ms/step - loss: 0.6842 - val_loss: 0.7267\n",
            "Epoch 34/100\n",
            "4976/4976 [==============================] - 8s 2ms/step - loss: 0.6739 - val_loss: 0.7265\n",
            "Epoch 35/100\n",
            "4976/4976 [==============================] - 8s 2ms/step - loss: 0.6880 - val_loss: 0.7282\n",
            "Epoch 36/100\n",
            "4976/4976 [==============================] - 8s 2ms/step - loss: 0.6750 - val_loss: 0.7264\n",
            "Epoch 37/100\n",
            "4976/4976 [==============================] - 8s 2ms/step - loss: 0.6799 - val_loss: 0.7269\n",
            "Epoch 38/100\n",
            "4976/4976 [==============================] - 8s 2ms/step - loss: 0.6783 - val_loss: 0.7285\n",
            "Epoch 39/100\n",
            "4976/4976 [==============================] - 8s 2ms/step - loss: 0.6829 - val_loss: 0.7262\n",
            "Epoch 40/100\n",
            "4976/4976 [==============================] - 8s 2ms/step - loss: 0.6834 - val_loss: 0.7257\n",
            "Epoch 41/100\n",
            "4976/4976 [==============================] - 8s 2ms/step - loss: 0.6817 - val_loss: 0.7262\n",
            "Epoch 42/100\n",
            "4976/4976 [==============================] - 8s 2ms/step - loss: 0.6737 - val_loss: 0.7271\n",
            "Epoch 43/100\n",
            "4976/4976 [==============================] - 8s 2ms/step - loss: 0.6858 - val_loss: 0.7268\n",
            "Epoch 44/100\n",
            "4976/4976 [==============================] - 8s 2ms/step - loss: 0.6771 - val_loss: 0.7268\n",
            "Epoch 45/100\n",
            "4976/4976 [==============================] - 8s 2ms/step - loss: 0.6821 - val_loss: 0.7256\n",
            "Epoch 46/100\n",
            "4976/4976 [==============================] - 8s 2ms/step - loss: 0.6806 - val_loss: 0.7287\n",
            "Epoch 47/100\n",
            "4976/4976 [==============================] - 8s 2ms/step - loss: 0.6732 - val_loss: 0.7262\n",
            "Epoch 48/100\n",
            "4976/4976 [==============================] - 8s 2ms/step - loss: 0.7013 - val_loss: 0.7258\n",
            "Epoch 49/100\n",
            "4976/4976 [==============================] - 8s 2ms/step - loss: 0.6901 - val_loss: 0.7262\n",
            "Epoch 50/100\n",
            "4976/4976 [==============================] - 8s 2ms/step - loss: 0.6789 - val_loss: 0.7257\n",
            "Epoch 51/100\n",
            "4976/4976 [==============================] - 8s 2ms/step - loss: 0.6942 - val_loss: 0.7275\n",
            "Epoch 52/100\n",
            "4976/4976 [==============================] - 8s 2ms/step - loss: 0.6942 - val_loss: 0.7249\n",
            "Epoch 53/100\n",
            "4976/4976 [==============================] - 8s 2ms/step - loss: 0.6793 - val_loss: 0.7284\n",
            "Epoch 54/100\n",
            "4976/4976 [==============================] - 8s 2ms/step - loss: 0.6871 - val_loss: 0.7255\n",
            "Epoch 55/100\n",
            "4976/4976 [==============================] - 8s 2ms/step - loss: 0.6863 - val_loss: 0.7241\n",
            "Epoch 56/100\n",
            "4976/4976 [==============================] - 8s 2ms/step - loss: 0.6782 - val_loss: 0.7258\n",
            "Epoch 57/100\n",
            "4976/4976 [==============================] - 8s 2ms/step - loss: 0.6807 - val_loss: 0.7248\n",
            "Epoch 58/100\n",
            "4976/4976 [==============================] - 8s 2ms/step - loss: 0.6821 - val_loss: 0.7248\n",
            "Epoch 59/100\n",
            "4976/4976 [==============================] - 8s 2ms/step - loss: 0.6776 - val_loss: 0.7246\n",
            "Epoch 60/100\n",
            "4976/4976 [==============================] - 8s 2ms/step - loss: 0.6813 - val_loss: 0.7254\n",
            "Epoch 61/100\n",
            "4976/4976 [==============================] - 8s 2ms/step - loss: 0.6669 - val_loss: 0.7282\n",
            "Epoch 62/100\n",
            "4976/4976 [==============================] - 8s 2ms/step - loss: 0.6725 - val_loss: 0.7264\n",
            "Epoch 63/100\n",
            "4976/4976 [==============================] - 8s 2ms/step - loss: 0.6744 - val_loss: 0.7240\n",
            "Epoch 64/100\n",
            "4976/4976 [==============================] - 8s 2ms/step - loss: 0.6824 - val_loss: 0.7257\n",
            "Epoch 65/100\n",
            "4976/4976 [==============================] - 8s 2ms/step - loss: 0.6684 - val_loss: 0.7235\n",
            "Epoch 66/100\n",
            "4976/4976 [==============================] - 8s 2ms/step - loss: 0.6839 - val_loss: 0.7253\n",
            "Epoch 67/100\n",
            "4976/4976 [==============================] - 8s 2ms/step - loss: 0.6893 - val_loss: 0.7242\n",
            "Epoch 68/100\n",
            "4976/4976 [==============================] - 8s 2ms/step - loss: 0.6748 - val_loss: 0.7237\n",
            "Epoch 69/100\n",
            "4976/4976 [==============================] - 8s 2ms/step - loss: 0.6745 - val_loss: 0.7239\n",
            "Epoch 70/100\n",
            "4976/4976 [==============================] - 8s 2ms/step - loss: 0.6841 - val_loss: 0.7239\n",
            "Epoch 71/100\n",
            "4976/4976 [==============================] - 8s 2ms/step - loss: 0.6726 - val_loss: 0.7240\n",
            "Epoch 72/100\n",
            "4976/4976 [==============================] - 8s 2ms/step - loss: 0.6959 - val_loss: 0.7245\n",
            "Epoch 73/100\n",
            "4976/4976 [==============================] - 8s 2ms/step - loss: 0.6927 - val_loss: 0.7246\n",
            "Epoch 74/100\n",
            "4976/4976 [==============================] - 8s 2ms/step - loss: 0.6774 - val_loss: 0.7245\n",
            "Epoch 75/100\n",
            "4976/4976 [==============================] - 8s 2ms/step - loss: 0.6946 - val_loss: 0.7259\n",
            "Epoch 76/100\n",
            "4976/4976 [==============================] - 8s 2ms/step - loss: 0.6836 - val_loss: 0.7240\n",
            "Epoch 77/100\n",
            "4976/4976 [==============================] - 8s 2ms/step - loss: 0.6802 - val_loss: 0.7235\n",
            "Epoch 78/100\n",
            "4976/4976 [==============================] - 8s 2ms/step - loss: 0.6814 - val_loss: 0.7272\n",
            "Epoch 79/100\n",
            "4976/4976 [==============================] - 8s 2ms/step - loss: 0.7033 - val_loss: 0.7265\n",
            "Epoch 80/100\n",
            "4976/4976 [==============================] - 8s 2ms/step - loss: 0.6815 - val_loss: 0.7224\n",
            "Epoch 81/100\n",
            "4976/4976 [==============================] - 8s 2ms/step - loss: 0.6726 - val_loss: 0.7230\n",
            "Epoch 82/100\n",
            "4976/4976 [==============================] - 8s 2ms/step - loss: 0.6966 - val_loss: 0.7240\n",
            "Epoch 83/100\n",
            "4976/4976 [==============================] - 8s 2ms/step - loss: 0.6770 - val_loss: 0.7246\n",
            "Epoch 84/100\n",
            "4976/4976 [==============================] - 8s 2ms/step - loss: 0.6712 - val_loss: 0.7246\n",
            "Epoch 85/100\n",
            "4976/4976 [==============================] - 8s 2ms/step - loss: 0.6733 - val_loss: 0.7267\n",
            "Epoch 86/100\n",
            "4976/4976 [==============================] - 8s 2ms/step - loss: 0.6787 - val_loss: 0.7238\n",
            "Epoch 87/100\n",
            "4976/4976 [==============================] - 8s 2ms/step - loss: 0.6728 - val_loss: 0.7238\n",
            "Epoch 88/100\n",
            "4976/4976 [==============================] - 8s 2ms/step - loss: 0.6843 - val_loss: 0.7238\n",
            "Epoch 89/100\n",
            "4976/4976 [==============================] - 8s 2ms/step - loss: 0.6782 - val_loss: 0.7233\n",
            "Epoch 90/100\n",
            "4976/4976 [==============================] - 8s 2ms/step - loss: 0.6709 - val_loss: 0.7233\n",
            "Epoch 91/100\n",
            "4976/4976 [==============================] - 8s 2ms/step - loss: 0.6807 - val_loss: 0.7235\n",
            "Epoch 92/100\n",
            "4976/4976 [==============================] - 8s 2ms/step - loss: 0.6815 - val_loss: 0.7306\n",
            "Epoch 93/100\n",
            "4976/4976 [==============================] - 8s 2ms/step - loss: 0.6833 - val_loss: 0.7246\n",
            "Epoch 94/100\n",
            "4976/4976 [==============================] - 8s 2ms/step - loss: 0.6857 - val_loss: 0.7254\n",
            "Epoch 95/100\n",
            "4976/4976 [==============================] - 8s 2ms/step - loss: 0.6709 - val_loss: 0.7236\n",
            "Epoch 96/100\n",
            "4976/4976 [==============================] - 8s 2ms/step - loss: 0.6760 - val_loss: 0.7233\n",
            "Epoch 97/100\n",
            "4976/4976 [==============================] - 8s 2ms/step - loss: 0.6772 - val_loss: 0.7282\n",
            "Epoch 98/100\n",
            "4976/4976 [==============================] - 8s 2ms/step - loss: 0.6726 - val_loss: 0.7230\n",
            "Epoch 99/100\n",
            "4976/4976 [==============================] - 8s 2ms/step - loss: 0.6796 - val_loss: 0.7232\n",
            "Epoch 100/100\n",
            "4976/4976 [==============================] - 8s 2ms/step - loss: 0.7000 - val_loss: 0.7244\n"
          ],
          "name": "stdout"
        }
      ]
    },
    {
      "cell_type": "code",
      "metadata": {
        "colab": {
          "base_uri": "https://localhost:8080/",
          "height": 350
        },
        "id": "T73zLATOYEJW",
        "outputId": "4b921d6b-b65a-4efe-b3e7-9803fc307cbf"
      },
      "source": [
        "plt.figure(figsize = (10,5))\n",
        "plt.plot(history['loss'], label = 'Training Loss')\n",
        "plt.plot(history['val_loss'], label = 'CV Loss')\n",
        "plt.title(\"Model Loss\")\n",
        "plt.xlabel('Epochs')\n",
        "plt.ylabel('Loss')\n",
        "plt.grid()\n",
        "plt.legend()\n",
        "plt.show()"
      ],
      "execution_count": null,
      "outputs": [
        {
          "output_type": "display_data",
          "data": {
            "image/png": "[encoded data removed]",
            "text/plain": [
              "<Figure size 720x360 with 1 Axes>"
            ]
          },
          "metadata": {
            "tags": [],
            "needs_background": "light"
          }
        }
      ]
    },
    {
      "cell_type": "code",
      "metadata": {
        "id": "nWbkI0OaYH_1"
      },
      "source": [
        "autoencoder = load_model('model.h5')"
      ],
      "execution_count": null,
      "outputs": []
    },
    {
      "cell_type": "code",
      "metadata": {
        "id": "JyoIhd3HYNDV"
      },
      "source": [
        "predictions = autoencoder.predict(X_test)"
      ],
      "execution_count": null,
      "outputs": []
    },
    {
      "cell_type": "code",
      "metadata": {
        "colab": {
          "base_uri": "https://localhost:8080/"
        },
        "id": "lBcf0hcSYUWv",
        "outputId": "06b0b6ac-d07e-499a-c900-70611edaacdc"
      },
      "source": [
        "predictions.shape"
      ],
      "execution_count": null,
      "outputs": [
        {
          "output_type": "execute_result",
          "data": {
            "text/plain": [
              "(56962, 29)"
            ]
          },
          "metadata": {
            "tags": []
          },
          "execution_count": 28
        }
      ]
    },
    {
      "cell_type": "code",
      "metadata": {
        "id": "Sl6YfZYzYZHk"
      },
      "source": [
        "mse = np.mean(np.power(X_test - predictions, 2), axis=1)\n",
        "error_df = pd.DataFrame({'reconstruction_error': mse, 'true_class':y_test})"
      ],
      "execution_count": null,
      "outputs": []
    },
    {
      "cell_type": "code",
      "metadata": {
        "colab": {
          "base_uri": "https://localhost:8080/",
          "height": 173
        },
        "id": "kmK2rmATYh6z",
        "outputId": "ccf0e9c5-713e-4b8f-fa75-461361a1f576"
      },
      "source": [
        "error_df.groupby(['true_class']).describe()"
      ],
      "execution_count": null,
      "outputs": [
        {
          "output_type": "execute_result",
          "data": {
            "text/html": [
              "<div>\n",
              "<style scoped>\n",
              "    .dataframe tbody tr th:only-of-type {\n",
              "        vertical-align: middle;\n",
              "    }\n",
              "\n",
              "    .dataframe tbody tr th {\n",
              "        vertical-align: top;\n",
              "    }\n",
              "\n",
              "    .dataframe thead tr th {\n",
              "        text-align: left;\n",
              "    }\n",
              "\n",
              "    .dataframe thead tr:last-of-type th {\n",
              "        text-align: right;\n",
              "    }\n",
              "</style>\n",
              "<table border=\"1\" class=\"dataframe\">\n",
              "  <thead>\n",
              "    <tr>\n",
              "      <th></th>\n",
              "      <th colspan=\"8\" halign=\"left\">reconstruction_error</th>\n",
              "    </tr>\n",
              "    <tr>\n",
              "      <th></th>\n",
              "      <th>count</th>\n",
              "      <th>mean</th>\n",
              "      <th>std</th>\n",
              "      <th>min</th>\n",
              "      <th>25%</th>\n",
              "      <th>50%</th>\n",
              "      <th>75%</th>\n",
              "      <th>max</th>\n",
              "    </tr>\n",
              "    <tr>\n",
              "      <th>true_class</th>\n",
              "      <th></th>\n",
              "      <th></th>\n",
              "      <th></th>\n",
              "      <th></th>\n",
              "      <th></th>\n",
              "      <th></th>\n",
              "      <th></th>\n",
              "      <th></th>\n",
              "    </tr>\n",
              "  </thead>\n",
              "  <tbody>\n",
              "    <tr>\n",
              "      <th>0</th>\n",
              "      <td>56864.0</td>\n",
              "      <td>0.673443</td>\n",
              "      <td>2.550734</td>\n",
              "      <td>0.044519</td>\n",
              "      <td>0.231536</td>\n",
              "      <td>0.383176</td>\n",
              "      <td>0.612360</td>\n",
              "      <td>157.600302</td>\n",
              "    </tr>\n",
              "    <tr>\n",
              "      <th>1</th>\n",
              "      <td>98.0</td>\n",
              "      <td>30.788189</td>\n",
              "      <td>46.677353</td>\n",
              "      <td>0.148152</td>\n",
              "      <td>3.778359</td>\n",
              "      <td>10.483298</td>\n",
              "      <td>50.659027</td>\n",
              "      <td>268.643251</td>\n",
              "    </tr>\n",
              "  </tbody>\n",
              "</table>\n",
              "</div>"
            ],
            "text/plain": [
              "           reconstruction_error             ...                       \n",
              "                          count       mean  ...        75%         max\n",
              "true_class                                  ...                       \n",
              "0                       56864.0   0.673443  ...   0.612360  157.600302\n",
              "1                          98.0  30.788189  ...  50.659027  268.643251\n",
              "\n",
              "[2 rows x 8 columns]"
            ]
          },
          "metadata": {
            "tags": []
          },
          "execution_count": 30
        }
      ]
    },
    {
      "cell_type": "code",
      "metadata": {
        "colab": {
          "base_uri": "https://localhost:8080/",
          "height": 423
        },
        "id": "FT8ZFWmYYmvE",
        "outputId": "be3ab412-040d-4f4a-cb23-b7b1ecc27cc1"
      },
      "source": [
        "plt.figure(figsize = (10,5))\n",
        "sns.distplot(error_df[error_df['true_class']==0]['reconstruction_error'], bins = 5, label = 'Normal')\n",
        "sns.distplot(error_df[error_df['true_class']==1]['reconstruction_error'], bins=5, label = 'Fraud')\n",
        "plt.legend()\n",
        "plt.show()"
      ],
      "execution_count": null,
      "outputs": [
        {
          "output_type": "stream",
          "text": [
            "/usr/local/lib/python3.7/dist-packages/seaborn/distributions.py:2557: FutureWarning: `distplot` is a deprecated function and will be removed in a future version. Please adapt your code to use either `displot` (a figure-level function with similar flexibility) or `histplot` (an axes-level function for histograms).\n",
            "  warnings.warn(msg, FutureWarning)\n",
            "/usr/local/lib/python3.7/dist-packages/seaborn/distributions.py:2557: FutureWarning: `distplot` is a deprecated function and will be removed in a future version. Please adapt your code to use either `displot` (a figure-level function with similar flexibility) or `histplot` (an axes-level function for histograms).\n",
            "  warnings.warn(msg, FutureWarning)\n"
          ],
          "name": "stderr"
        },
        {
          "output_type": "display_data",
          "data": {
            "image/png": "[encoded data removed]",
            "text/plain": [
              "<Figure size 720x360 with 1 Axes>"
            ]
          },
          "metadata": {
            "tags": [],
            "needs_background": "light"
          }
        }
      ]
    },
    {
      "cell_type": "code",
      "metadata": {
        "id": "YZXr1hCaYrEP"
      },
      "source": [
        "from sklearn.metrics import (confusion_matrix, precision_recall_curve, auc,\n",
        "                             roc_curve, recall_score, classification_report, f1_score,\n",
        "                             precision_recall_fscore_support, roc_auc_score)\n"
      ],
      "execution_count": null,
      "outputs": []
    },
    {
      "cell_type": "code",
      "metadata": {
        "id": "xBS86QUoYyHV"
      },
      "source": [
        "threshold = 1.4"
      ],
      "execution_count": null,
      "outputs": []
    },
    {
      "cell_type": "code",
      "metadata": {
        "colab": {
          "base_uri": "https://localhost:8080/",
          "height": 385
        },
        "id": "KCwfeHKGY5pT",
        "outputId": "28a99c81-42af-46b4-c382-ffe5647dcbf0"
      },
      "source": [
        "groups = error_df.groupby('true_class')\n",
        "fig, ax = plt.subplots(figsize = (20,8))\n",
        "\n",
        "for name, group in groups:\n",
        "    ax.plot(group.index, group.reconstruction_error, marker='+', ms=10, linestyle='',\n",
        "            label= \"Fraud\" if name == 1 else \"Normal\")\n",
        "ax.hlines(threshold, ax.get_xlim()[0], ax.get_xlim()[1], colors=\"r\", zorder=100, label='Threshold')\n",
        "ax.legend()\n",
        "plt.title(\"Reconstruction error for different classes\")\n",
        "plt.ylabel(\"Reconstruction error\")\n",
        "plt.xlabel(\"Data point index\")\n",
        "plt.grid()\n",
        "plt.show();"
      ],
      "execution_count": null,
      "outputs": [
        {
          "output_type": "display_data",
          "data": {
            "image/png": "[encoded data removed]",
            "text/plain": [
              "<Figure size 1440x576 with 1 Axes>"
            ]
          },
          "metadata": {
            "tags": [],
            "needs_background": "light"
          }
        }
      ]
    },
    {
      "cell_type": "code",
      "metadata": {
        "colab": {
          "base_uri": "https://localhost:8080/",
          "height": 295
        },
        "id": "pyB3LBzbY76L",
        "outputId": "10d9d835-00e4-4d94-d4b0-dde3ae0e36c1"
      },
      "source": [
        "fpr, tpr, thres = roc_curve(error_df.true_class, error_df.reconstruction_error)\n",
        "plt.plot(fpr, tpr, label = 'AUC') \n",
        "plt.plot([0,1], [0,1], ':', label = 'Random') \n",
        "plt.legend() \n",
        "plt.grid() \n",
        "plt.ylabel(\"TPR\") \n",
        "plt.xlabel(\"FPR\") \n",
        "plt.title('ROC') \n",
        "plt.show() \n"
      ],
      "execution_count": null,
      "outputs": [
        {
          "output_type": "display_data",
          "data": {
            "image/png": "[encoded data removed]",
            "text/plain": [
              "<Figure size 432x288 with 1 Axes>"
            ]
          },
          "metadata": {
            "tags": [],
            "needs_background": "light"
          }
        }
      ]
    },
    {
      "cell_type": "code",
      "metadata": {
        "colab": {
          "base_uri": "https://localhost:8080/",
          "height": 295
        },
        "id": "yvyWaM79ZLEW",
        "outputId": "2ab03e85-ccf6-4c81-9eb0-2c02668d7e85"
      },
      "source": [
        "LABELS = ['Normal', 'Fraud']\n",
        "threshold = 2\n",
        "y_pred = [1 if e > threshold else 0 for e in error_df.reconstruction_error.values]\n",
        "conf_matrix = confusion_matrix(error_df.true_class, y_pred)\n",
        "sns.heatmap(conf_matrix, xticklabels=LABELS, yticklabels=LABELS, annot=True, fmt=\"d\", cmap='Greens');\n",
        "plt.title(\"Confusion matrix\")\n",
        "plt.ylabel('True class')\n",
        "plt.xlabel('Predicted class')\n",
        "plt.show()\n"
      ],
      "execution_count": null,
      "outputs": [
        {
          "output_type": "display_data",
          "data": {
            "image/png": "[encoded data removed]",
            "text/plain": [
              "<Figure size 432x288 with 2 Axes>"
            ]
          },
          "metadata": {
            "tags": [],
            "needs_background": "light"
          }
        }
      ]
    },
    {
      "cell_type": "code",
      "metadata": {
        "colab": {
          "base_uri": "https://localhost:8080/"
        },
        "id": "TYdqcftjZSWS",
        "outputId": "db3df083-7991-43ca-d9a8-aef338cf56c2"
      },
      "source": [
        "print(\"Area under ROC : \", roc_auc_score(error_df.true_class,y_pred ))"
      ],
      "execution_count": null,
      "outputs": [
        {
          "output_type": "stream",
          "text": [
            "Area under ROC :  0.9010101437873969\n"
          ],
          "name": "stdout"
        }
      ]
    },
    {
      "cell_type": "code",
      "metadata": {
        "colab": {
          "base_uri": "https://localhost:8080/"
        },
        "id": "XjS3MfJNZYui",
        "outputId": "12c22150-a84f-453c-dd43-ef1d8dff07a6"
      },
      "source": [
        "print(classification_report(error_df.true_class,y_pred))"
      ],
      "execution_count": null,
      "outputs": [
        {
          "output_type": "stream",
          "text": [
            "              precision    recall  f1-score   support\n",
            "\n",
            "           0       1.00      0.97      0.98     56864\n",
            "           1       0.04      0.84      0.08        98\n",
            "\n",
            "    accuracy                           0.97     56962\n",
            "   macro avg       0.52      0.90      0.53     56962\n",
            "weighted avg       1.00      0.97      0.98     56962\n",
            "\n"
          ],
          "name": "stdout"
        }
      ]
    }
  ]
}