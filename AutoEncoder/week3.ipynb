{
  "nbformat": 4,
  "nbformat_minor": 0,
  "metadata": {
    "colab": {
      "name": "week3.ipynb",
      "provenance": [],
      "toc_visible": true,
      "mount_file_id": "1rczNLJrb4HkKkOfQQ_cz1xGoxXllG2xv",
      "authorship_tag": "ABX9TyP38rXnEjqUxrjW6FdyVrIR",
      "include_colab_link": true
    },
    "kernelspec": {
      "name": "python3",
      "display_name": "Python 3"
    }
  },
  "cells": [
    {
      "cell_type": "markdown",
      "metadata": {
        "id": "view-in-github",
        "colab_type": "text"
      },
      "source": [
        "<a href=\"https://colab.research.google.com/github/vasanth9/ccfdetect/blob/master/AutoEncoder/week3.ipynb\" target=\"_parent\"><img src=\"https://colab.research.google.com/assets/colab-badge.svg\" alt=\"Open In Colab\"/></a>"
      ]
    },
    {
      "cell_type": "markdown",
      "metadata": {
        "id": "pyCmIbcGPelD"
      },
      "source": [
        "###Data Loading..."
      ]
    },
    {
      "cell_type": "code",
      "metadata": {
        "id": "jtGs3Nzy48i7"
      },
      "source": [
        "import pandas as pd"
      ],
      "execution_count": 5,
      "outputs": []
    },
    {
      "cell_type": "code",
      "metadata": {
        "id": "HD3vQKFIANI8"
      },
      "source": [
        "import numpy as np\n",
        "import matplotlib.pyplot as plt\n",
        "import seaborn as sns\n",
        "from sklearn.preprocessing import StandardScaler\n",
        "from sklearn.model_selection import train_test_split"
      ],
      "execution_count": 6,
      "outputs": []
    },
    {
      "cell_type": "code",
      "metadata": {
        "colab": {
          "base_uri": "https://localhost:8080/",
          "height": 224
        },
        "id": "-PCx2kv252dO",
        "outputId": "1e8fe11e-a05d-48ba-bf60-27e2d0458201"
      },
      "source": [
        "df = pd.read_csv('/content/drive/MyDrive/creditcard.csv')\n",
        "df.head()"
      ],
      "execution_count": 7,
      "outputs": [
        {
          "output_type": "execute_result",
          "data": {
            "text/html": [
              "<div>\n",
              "<style scoped>\n",
              "    .dataframe tbody tr th:only-of-type {\n",
              "        vertical-align: middle;\n",
              "    }\n",
              "\n",
              "    .dataframe tbody tr th {\n",
              "        vertical-align: top;\n",
              "    }\n",
              "\n",
              "    .dataframe thead th {\n",
              "        text-align: right;\n",
              "    }\n",
              "</style>\n",
              "<table border=\"1\" class=\"dataframe\">\n",
              "  <thead>\n",
              "    <tr style=\"text-align: right;\">\n",
              "      <th></th>\n",
              "      <th>Time</th>\n",
              "      <th>V1</th>\n",
              "      <th>V2</th>\n",
              "      <th>V3</th>\n",
              "      <th>V4</th>\n",
              "      <th>V5</th>\n",
              "      <th>V6</th>\n",
              "      <th>V7</th>\n",
              "      <th>V8</th>\n",
              "      <th>V9</th>\n",
              "      <th>V10</th>\n",
              "      <th>V11</th>\n",
              "      <th>V12</th>\n",
              "      <th>V13</th>\n",
              "      <th>V14</th>\n",
              "      <th>V15</th>\n",
              "      <th>V16</th>\n",
              "      <th>V17</th>\n",
              "      <th>V18</th>\n",
              "      <th>V19</th>\n",
              "      <th>V20</th>\n",
              "      <th>V21</th>\n",
              "      <th>V22</th>\n",
              "      <th>V23</th>\n",
              "      <th>V24</th>\n",
              "      <th>V25</th>\n",
              "      <th>V26</th>\n",
              "      <th>V27</th>\n",
              "      <th>V28</th>\n",
              "      <th>Amount</th>\n",
              "      <th>Class</th>\n",
              "    </tr>\n",
              "  </thead>\n",
              "  <tbody>\n",
              "    <tr>\n",
              "      <th>0</th>\n",
              "      <td>0.0</td>\n",
              "      <td>-1.359807</td>\n",
              "      <td>-0.072781</td>\n",
              "      <td>2.536347</td>\n",
              "      <td>1.378155</td>\n",
              "      <td>-0.338321</td>\n",
              "      <td>0.462388</td>\n",
              "      <td>0.239599</td>\n",
              "      <td>0.098698</td>\n",
              "      <td>0.363787</td>\n",
              "      <td>0.090794</td>\n",
              "      <td>-0.551600</td>\n",
              "      <td>-0.617801</td>\n",
              "      <td>-0.991390</td>\n",
              "      <td>-0.311169</td>\n",
              "      <td>1.468177</td>\n",
              "      <td>-0.470401</td>\n",
              "      <td>0.207971</td>\n",
              "      <td>0.025791</td>\n",
              "      <td>0.403993</td>\n",
              "      <td>0.251412</td>\n",
              "      <td>-0.018307</td>\n",
              "      <td>0.277838</td>\n",
              "      <td>-0.110474</td>\n",
              "      <td>0.066928</td>\n",
              "      <td>0.128539</td>\n",
              "      <td>-0.189115</td>\n",
              "      <td>0.133558</td>\n",
              "      <td>-0.021053</td>\n",
              "      <td>149.62</td>\n",
              "      <td>0</td>\n",
              "    </tr>\n",
              "    <tr>\n",
              "      <th>1</th>\n",
              "      <td>0.0</td>\n",
              "      <td>1.191857</td>\n",
              "      <td>0.266151</td>\n",
              "      <td>0.166480</td>\n",
              "      <td>0.448154</td>\n",
              "      <td>0.060018</td>\n",
              "      <td>-0.082361</td>\n",
              "      <td>-0.078803</td>\n",
              "      <td>0.085102</td>\n",
              "      <td>-0.255425</td>\n",
              "      <td>-0.166974</td>\n",
              "      <td>1.612727</td>\n",
              "      <td>1.065235</td>\n",
              "      <td>0.489095</td>\n",
              "      <td>-0.143772</td>\n",
              "      <td>0.635558</td>\n",
              "      <td>0.463917</td>\n",
              "      <td>-0.114805</td>\n",
              "      <td>-0.183361</td>\n",
              "      <td>-0.145783</td>\n",
              "      <td>-0.069083</td>\n",
              "      <td>-0.225775</td>\n",
              "      <td>-0.638672</td>\n",
              "      <td>0.101288</td>\n",
              "      <td>-0.339846</td>\n",
              "      <td>0.167170</td>\n",
              "      <td>0.125895</td>\n",
              "      <td>-0.008983</td>\n",
              "      <td>0.014724</td>\n",
              "      <td>2.69</td>\n",
              "      <td>0</td>\n",
              "    </tr>\n",
              "    <tr>\n",
              "      <th>2</th>\n",
              "      <td>1.0</td>\n",
              "      <td>-1.358354</td>\n",
              "      <td>-1.340163</td>\n",
              "      <td>1.773209</td>\n",
              "      <td>0.379780</td>\n",
              "      <td>-0.503198</td>\n",
              "      <td>1.800499</td>\n",
              "      <td>0.791461</td>\n",
              "      <td>0.247676</td>\n",
              "      <td>-1.514654</td>\n",
              "      <td>0.207643</td>\n",
              "      <td>0.624501</td>\n",
              "      <td>0.066084</td>\n",
              "      <td>0.717293</td>\n",
              "      <td>-0.165946</td>\n",
              "      <td>2.345865</td>\n",
              "      <td>-2.890083</td>\n",
              "      <td>1.109969</td>\n",
              "      <td>-0.121359</td>\n",
              "      <td>-2.261857</td>\n",
              "      <td>0.524980</td>\n",
              "      <td>0.247998</td>\n",
              "      <td>0.771679</td>\n",
              "      <td>0.909412</td>\n",
              "      <td>-0.689281</td>\n",
              "      <td>-0.327642</td>\n",
              "      <td>-0.139097</td>\n",
              "      <td>-0.055353</td>\n",
              "      <td>-0.059752</td>\n",
              "      <td>378.66</td>\n",
              "      <td>0</td>\n",
              "    </tr>\n",
              "    <tr>\n",
              "      <th>3</th>\n",
              "      <td>1.0</td>\n",
              "      <td>-0.966272</td>\n",
              "      <td>-0.185226</td>\n",
              "      <td>1.792993</td>\n",
              "      <td>-0.863291</td>\n",
              "      <td>-0.010309</td>\n",
              "      <td>1.247203</td>\n",
              "      <td>0.237609</td>\n",
              "      <td>0.377436</td>\n",
              "      <td>-1.387024</td>\n",
              "      <td>-0.054952</td>\n",
              "      <td>-0.226487</td>\n",
              "      <td>0.178228</td>\n",
              "      <td>0.507757</td>\n",
              "      <td>-0.287924</td>\n",
              "      <td>-0.631418</td>\n",
              "      <td>-1.059647</td>\n",
              "      <td>-0.684093</td>\n",
              "      <td>1.965775</td>\n",
              "      <td>-1.232622</td>\n",
              "      <td>-0.208038</td>\n",
              "      <td>-0.108300</td>\n",
              "      <td>0.005274</td>\n",
              "      <td>-0.190321</td>\n",
              "      <td>-1.175575</td>\n",
              "      <td>0.647376</td>\n",
              "      <td>-0.221929</td>\n",
              "      <td>0.062723</td>\n",
              "      <td>0.061458</td>\n",
              "      <td>123.50</td>\n",
              "      <td>0</td>\n",
              "    </tr>\n",
              "    <tr>\n",
              "      <th>4</th>\n",
              "      <td>2.0</td>\n",
              "      <td>-1.158233</td>\n",
              "      <td>0.877737</td>\n",
              "      <td>1.548718</td>\n",
              "      <td>0.403034</td>\n",
              "      <td>-0.407193</td>\n",
              "      <td>0.095921</td>\n",
              "      <td>0.592941</td>\n",
              "      <td>-0.270533</td>\n",
              "      <td>0.817739</td>\n",
              "      <td>0.753074</td>\n",
              "      <td>-0.822843</td>\n",
              "      <td>0.538196</td>\n",
              "      <td>1.345852</td>\n",
              "      <td>-1.119670</td>\n",
              "      <td>0.175121</td>\n",
              "      <td>-0.451449</td>\n",
              "      <td>-0.237033</td>\n",
              "      <td>-0.038195</td>\n",
              "      <td>0.803487</td>\n",
              "      <td>0.408542</td>\n",
              "      <td>-0.009431</td>\n",
              "      <td>0.798278</td>\n",
              "      <td>-0.137458</td>\n",
              "      <td>0.141267</td>\n",
              "      <td>-0.206010</td>\n",
              "      <td>0.502292</td>\n",
              "      <td>0.219422</td>\n",
              "      <td>0.215153</td>\n",
              "      <td>69.99</td>\n",
              "      <td>0</td>\n",
              "    </tr>\n",
              "  </tbody>\n",
              "</table>\n",
              "</div>"
            ],
            "text/plain": [
              "   Time        V1        V2        V3  ...       V27       V28  Amount  Class\n",
              "0   0.0 -1.359807 -0.072781  2.536347  ...  0.133558 -0.021053  149.62      0\n",
              "1   0.0  1.191857  0.266151  0.166480  ... -0.008983  0.014724    2.69      0\n",
              "2   1.0 -1.358354 -1.340163  1.773209  ... -0.055353 -0.059752  378.66      0\n",
              "3   1.0 -0.966272 -0.185226  1.792993  ...  0.062723  0.061458  123.50      0\n",
              "4   2.0 -1.158233  0.877737  1.548718  ...  0.219422  0.215153   69.99      0\n",
              "\n",
              "[5 rows x 31 columns]"
            ]
          },
          "metadata": {
            "tags": []
          },
          "execution_count": 7
        }
      ]
    },
    {
      "cell_type": "code",
      "metadata": {
        "colab": {
          "base_uri": "https://localhost:8080/"
        },
        "id": "1T69I4J-CAT0",
        "outputId": "6670adb8-6f94-4f43-9f41-e3c71a9321df"
      },
      "source": [
        "df.info()"
      ],
      "execution_count": 8,
      "outputs": [
        {
          "output_type": "stream",
          "text": [
            "<class 'pandas.core.frame.DataFrame'>\n",
            "RangeIndex: 284807 entries, 0 to 284806\n",
            "Data columns (total 31 columns):\n",
            " #   Column  Non-Null Count   Dtype  \n",
            "---  ------  --------------   -----  \n",
            " 0   Time    284807 non-null  float64\n",
            " 1   V1      284807 non-null  float64\n",
            " 2   V2      284807 non-null  float64\n",
            " 3   V3      284807 non-null  float64\n",
            " 4   V4      284807 non-null  float64\n",
            " 5   V5      284807 non-null  float64\n",
            " 6   V6      284807 non-null  float64\n",
            " 7   V7      284807 non-null  float64\n",
            " 8   V8      284807 non-null  float64\n",
            " 9   V9      284807 non-null  float64\n",
            " 10  V10     284807 non-null  float64\n",
            " 11  V11     284807 non-null  float64\n",
            " 12  V12     284807 non-null  float64\n",
            " 13  V13     284807 non-null  float64\n",
            " 14  V14     284807 non-null  float64\n",
            " 15  V15     284807 non-null  float64\n",
            " 16  V16     284807 non-null  float64\n",
            " 17  V17     284807 non-null  float64\n",
            " 18  V18     284807 non-null  float64\n",
            " 19  V19     284807 non-null  float64\n",
            " 20  V20     284807 non-null  float64\n",
            " 21  V21     284807 non-null  float64\n",
            " 22  V22     284807 non-null  float64\n",
            " 23  V23     284807 non-null  float64\n",
            " 24  V24     284807 non-null  float64\n",
            " 25  V25     284807 non-null  float64\n",
            " 26  V26     284807 non-null  float64\n",
            " 27  V27     284807 non-null  float64\n",
            " 28  V28     284807 non-null  float64\n",
            " 29  Amount  284807 non-null  float64\n",
            " 30  Class   284807 non-null  int64  \n",
            "dtypes: float64(30), int64(1)\n",
            "memory usage: 67.4 MB\n"
          ],
          "name": "stdout"
        }
      ]
    },
    {
      "cell_type": "code",
      "metadata": {
        "colab": {
          "base_uri": "https://localhost:8080/"
        },
        "id": "H_AWMCiDDNLl",
        "outputId": "14505801-a343-4f7c-d3ef-1f038492d8ae"
      },
      "source": [
        "df.shape"
      ],
      "execution_count": 9,
      "outputs": [
        {
          "output_type": "execute_result",
          "data": {
            "text/plain": [
              "(284807, 31)"
            ]
          },
          "metadata": {
            "tags": []
          },
          "execution_count": 9
        }
      ]
    },
    {
      "cell_type": "markdown",
      "metadata": {
        "id": "ZCpceiMcIIyP"
      },
      "source": [
        "###Class Wise Analysis\n"
      ]
    },
    {
      "cell_type": "code",
      "metadata": {
        "colab": {
          "base_uri": "https://localhost:8080/"
        },
        "id": "qM0cdMZ4DlOY",
        "outputId": "aa522f98-b7b2-4a8e-9473-c8e23c32f18e"
      },
      "source": [
        "normal = df[df['Class']==0]\n",
        "fraud  = df[df['Class']==1]\n",
        "print(\"Normal DataPoints: \",normal.shape[0])\n",
        "print(\"Fraud DataPoints:  \", fraud.shape[0])"
      ],
      "execution_count": 17,
      "outputs": [
        {
          "output_type": "stream",
          "text": [
            "Normal DataPoints:  284315\n",
            "Fraud DataPoints:   492\n"
          ],
          "name": "stdout"
        }
      ]
    },
    {
      "cell_type": "code",
      "metadata": {
        "colab": {
          "base_uri": "https://localhost:8080/",
          "height": 366
        },
        "id": "QjO5RiYTET-D",
        "outputId": "e77ee617-5d76-4c91-8598-ed74d25d8403"
      },
      "source": [
        "print((\"Distribution of fraudulent points: {:.2f}%\".format(len(df[df['Class']==1])/len(df)*100)))\n",
        "sns.countplot(df['Class'])\n",
        "plt.title('Class Distribution')\n",
        "plt.xticks(range(2),['Normal','Fraud'])\n",
        "plt.show()"
      ],
      "execution_count": 24,
      "outputs": [
        {
          "output_type": "stream",
          "text": [
            "Distribution of fraudulent points: 0.17%\n"
          ],
          "name": "stdout"
        },
        {
          "output_type": "stream",
          "text": [
            "/usr/local/lib/python3.7/dist-packages/seaborn/_decorators.py:43: FutureWarning: Pass the following variable as a keyword arg: x. From version 0.12, the only valid positional argument will be `data`, and passing other arguments without an explicit keyword will result in an error or misinterpretation.\n",
            "  FutureWarning\n"
          ],
          "name": "stderr"
        },
        {
          "output_type": "display_data",
          "data": {
            "image/png": "[encoded data removed]",
            "text/plain": [
              "<Figure size 432x288 with 1 Axes>"
            ]
          },
          "metadata": {
            "tags": [],
            "needs_background": "light"
          }
        }
      ]
    },
    {
      "cell_type": "code",
      "metadata": {
        "colab": {
          "base_uri": "https://localhost:8080/",
          "height": 317
        },
        "id": "7EAJ3Py5F0J_",
        "outputId": "9dff3127-2e49-4ce2-8dd4-502e3a65f536"
      },
      "source": [
        "df.describe()"
      ],
      "execution_count": 25,
      "outputs": [
        {
          "output_type": "execute_result",
          "data": {
            "text/html": [
              "<div>\n",
              "<style scoped>\n",
              "    .dataframe tbody tr th:only-of-type {\n",
              "        vertical-align: middle;\n",
              "    }\n",
              "\n",
              "    .dataframe tbody tr th {\n",
              "        vertical-align: top;\n",
              "    }\n",
              "\n",
              "    .dataframe thead th {\n",
              "        text-align: right;\n",
              "    }\n",
              "</style>\n",
              "<table border=\"1\" class=\"dataframe\">\n",
              "  <thead>\n",
              "    <tr style=\"text-align: right;\">\n",
              "      <th></th>\n",
              "      <th>Time</th>\n",
              "      <th>V1</th>\n",
              "      <th>V2</th>\n",
              "      <th>V3</th>\n",
              "      <th>V4</th>\n",
              "      <th>V5</th>\n",
              "      <th>V6</th>\n",
              "      <th>V7</th>\n",
              "      <th>V8</th>\n",
              "      <th>V9</th>\n",
              "      <th>V10</th>\n",
              "      <th>V11</th>\n",
              "      <th>V12</th>\n",
              "      <th>V13</th>\n",
              "      <th>V14</th>\n",
              "      <th>V15</th>\n",
              "      <th>V16</th>\n",
              "      <th>V17</th>\n",
              "      <th>V18</th>\n",
              "      <th>V19</th>\n",
              "      <th>V20</th>\n",
              "      <th>V21</th>\n",
              "      <th>V22</th>\n",
              "      <th>V23</th>\n",
              "      <th>V24</th>\n",
              "      <th>V25</th>\n",
              "      <th>V26</th>\n",
              "      <th>V27</th>\n",
              "      <th>V28</th>\n",
              "      <th>Amount</th>\n",
              "      <th>Class</th>\n",
              "    </tr>\n",
              "  </thead>\n",
              "  <tbody>\n",
              "    <tr>\n",
              "      <th>count</th>\n",
              "      <td>284807.000000</td>\n",
              "      <td>2.848070e+05</td>\n",
              "      <td>2.848070e+05</td>\n",
              "      <td>2.848070e+05</td>\n",
              "      <td>2.848070e+05</td>\n",
              "      <td>2.848070e+05</td>\n",
              "      <td>2.848070e+05</td>\n",
              "      <td>2.848070e+05</td>\n",
              "      <td>2.848070e+05</td>\n",
              "      <td>2.848070e+05</td>\n",
              "      <td>2.848070e+05</td>\n",
              "      <td>2.848070e+05</td>\n",
              "      <td>2.848070e+05</td>\n",
              "      <td>2.848070e+05</td>\n",
              "      <td>2.848070e+05</td>\n",
              "      <td>2.848070e+05</td>\n",
              "      <td>2.848070e+05</td>\n",
              "      <td>2.848070e+05</td>\n",
              "      <td>2.848070e+05</td>\n",
              "      <td>2.848070e+05</td>\n",
              "      <td>2.848070e+05</td>\n",
              "      <td>2.848070e+05</td>\n",
              "      <td>2.848070e+05</td>\n",
              "      <td>2.848070e+05</td>\n",
              "      <td>2.848070e+05</td>\n",
              "      <td>2.848070e+05</td>\n",
              "      <td>2.848070e+05</td>\n",
              "      <td>2.848070e+05</td>\n",
              "      <td>2.848070e+05</td>\n",
              "      <td>284807.000000</td>\n",
              "      <td>284807.000000</td>\n",
              "    </tr>\n",
              "    <tr>\n",
              "      <th>mean</th>\n",
              "      <td>94813.859575</td>\n",
              "      <td>3.919560e-15</td>\n",
              "      <td>5.688174e-16</td>\n",
              "      <td>-8.769071e-15</td>\n",
              "      <td>2.782312e-15</td>\n",
              "      <td>-1.552563e-15</td>\n",
              "      <td>2.010663e-15</td>\n",
              "      <td>-1.694249e-15</td>\n",
              "      <td>-1.927028e-16</td>\n",
              "      <td>-3.137024e-15</td>\n",
              "      <td>1.768627e-15</td>\n",
              "      <td>9.170318e-16</td>\n",
              "      <td>-1.810658e-15</td>\n",
              "      <td>1.693438e-15</td>\n",
              "      <td>1.479045e-15</td>\n",
              "      <td>3.482336e-15</td>\n",
              "      <td>1.392007e-15</td>\n",
              "      <td>-7.528491e-16</td>\n",
              "      <td>4.328772e-16</td>\n",
              "      <td>9.049732e-16</td>\n",
              "      <td>5.085503e-16</td>\n",
              "      <td>1.537294e-16</td>\n",
              "      <td>7.959909e-16</td>\n",
              "      <td>5.367590e-16</td>\n",
              "      <td>4.458112e-15</td>\n",
              "      <td>1.453003e-15</td>\n",
              "      <td>1.699104e-15</td>\n",
              "      <td>-3.660161e-16</td>\n",
              "      <td>-1.206049e-16</td>\n",
              "      <td>88.349619</td>\n",
              "      <td>0.001727</td>\n",
              "    </tr>\n",
              "    <tr>\n",
              "      <th>std</th>\n",
              "      <td>47488.145955</td>\n",
              "      <td>1.958696e+00</td>\n",
              "      <td>1.651309e+00</td>\n",
              "      <td>1.516255e+00</td>\n",
              "      <td>1.415869e+00</td>\n",
              "      <td>1.380247e+00</td>\n",
              "      <td>1.332271e+00</td>\n",
              "      <td>1.237094e+00</td>\n",
              "      <td>1.194353e+00</td>\n",
              "      <td>1.098632e+00</td>\n",
              "      <td>1.088850e+00</td>\n",
              "      <td>1.020713e+00</td>\n",
              "      <td>9.992014e-01</td>\n",
              "      <td>9.952742e-01</td>\n",
              "      <td>9.585956e-01</td>\n",
              "      <td>9.153160e-01</td>\n",
              "      <td>8.762529e-01</td>\n",
              "      <td>8.493371e-01</td>\n",
              "      <td>8.381762e-01</td>\n",
              "      <td>8.140405e-01</td>\n",
              "      <td>7.709250e-01</td>\n",
              "      <td>7.345240e-01</td>\n",
              "      <td>7.257016e-01</td>\n",
              "      <td>6.244603e-01</td>\n",
              "      <td>6.056471e-01</td>\n",
              "      <td>5.212781e-01</td>\n",
              "      <td>4.822270e-01</td>\n",
              "      <td>4.036325e-01</td>\n",
              "      <td>3.300833e-01</td>\n",
              "      <td>250.120109</td>\n",
              "      <td>0.041527</td>\n",
              "    </tr>\n",
              "    <tr>\n",
              "      <th>min</th>\n",
              "      <td>0.000000</td>\n",
              "      <td>-5.640751e+01</td>\n",
              "      <td>-7.271573e+01</td>\n",
              "      <td>-4.832559e+01</td>\n",
              "      <td>-5.683171e+00</td>\n",
              "      <td>-1.137433e+02</td>\n",
              "      <td>-2.616051e+01</td>\n",
              "      <td>-4.355724e+01</td>\n",
              "      <td>-7.321672e+01</td>\n",
              "      <td>-1.343407e+01</td>\n",
              "      <td>-2.458826e+01</td>\n",
              "      <td>-4.797473e+00</td>\n",
              "      <td>-1.868371e+01</td>\n",
              "      <td>-5.791881e+00</td>\n",
              "      <td>-1.921433e+01</td>\n",
              "      <td>-4.498945e+00</td>\n",
              "      <td>-1.412985e+01</td>\n",
              "      <td>-2.516280e+01</td>\n",
              "      <td>-9.498746e+00</td>\n",
              "      <td>-7.213527e+00</td>\n",
              "      <td>-5.449772e+01</td>\n",
              "      <td>-3.483038e+01</td>\n",
              "      <td>-1.093314e+01</td>\n",
              "      <td>-4.480774e+01</td>\n",
              "      <td>-2.836627e+00</td>\n",
              "      <td>-1.029540e+01</td>\n",
              "      <td>-2.604551e+00</td>\n",
              "      <td>-2.256568e+01</td>\n",
              "      <td>-1.543008e+01</td>\n",
              "      <td>0.000000</td>\n",
              "      <td>0.000000</td>\n",
              "    </tr>\n",
              "    <tr>\n",
              "      <th>25%</th>\n",
              "      <td>54201.500000</td>\n",
              "      <td>-9.203734e-01</td>\n",
              "      <td>-5.985499e-01</td>\n",
              "      <td>-8.903648e-01</td>\n",
              "      <td>-8.486401e-01</td>\n",
              "      <td>-6.915971e-01</td>\n",
              "      <td>-7.682956e-01</td>\n",
              "      <td>-5.540759e-01</td>\n",
              "      <td>-2.086297e-01</td>\n",
              "      <td>-6.430976e-01</td>\n",
              "      <td>-5.354257e-01</td>\n",
              "      <td>-7.624942e-01</td>\n",
              "      <td>-4.055715e-01</td>\n",
              "      <td>-6.485393e-01</td>\n",
              "      <td>-4.255740e-01</td>\n",
              "      <td>-5.828843e-01</td>\n",
              "      <td>-4.680368e-01</td>\n",
              "      <td>-4.837483e-01</td>\n",
              "      <td>-4.988498e-01</td>\n",
              "      <td>-4.562989e-01</td>\n",
              "      <td>-2.117214e-01</td>\n",
              "      <td>-2.283949e-01</td>\n",
              "      <td>-5.423504e-01</td>\n",
              "      <td>-1.618463e-01</td>\n",
              "      <td>-3.545861e-01</td>\n",
              "      <td>-3.171451e-01</td>\n",
              "      <td>-3.269839e-01</td>\n",
              "      <td>-7.083953e-02</td>\n",
              "      <td>-5.295979e-02</td>\n",
              "      <td>5.600000</td>\n",
              "      <td>0.000000</td>\n",
              "    </tr>\n",
              "    <tr>\n",
              "      <th>50%</th>\n",
              "      <td>84692.000000</td>\n",
              "      <td>1.810880e-02</td>\n",
              "      <td>6.548556e-02</td>\n",
              "      <td>1.798463e-01</td>\n",
              "      <td>-1.984653e-02</td>\n",
              "      <td>-5.433583e-02</td>\n",
              "      <td>-2.741871e-01</td>\n",
              "      <td>4.010308e-02</td>\n",
              "      <td>2.235804e-02</td>\n",
              "      <td>-5.142873e-02</td>\n",
              "      <td>-9.291738e-02</td>\n",
              "      <td>-3.275735e-02</td>\n",
              "      <td>1.400326e-01</td>\n",
              "      <td>-1.356806e-02</td>\n",
              "      <td>5.060132e-02</td>\n",
              "      <td>4.807155e-02</td>\n",
              "      <td>6.641332e-02</td>\n",
              "      <td>-6.567575e-02</td>\n",
              "      <td>-3.636312e-03</td>\n",
              "      <td>3.734823e-03</td>\n",
              "      <td>-6.248109e-02</td>\n",
              "      <td>-2.945017e-02</td>\n",
              "      <td>6.781943e-03</td>\n",
              "      <td>-1.119293e-02</td>\n",
              "      <td>4.097606e-02</td>\n",
              "      <td>1.659350e-02</td>\n",
              "      <td>-5.213911e-02</td>\n",
              "      <td>1.342146e-03</td>\n",
              "      <td>1.124383e-02</td>\n",
              "      <td>22.000000</td>\n",
              "      <td>0.000000</td>\n",
              "    </tr>\n",
              "    <tr>\n",
              "      <th>75%</th>\n",
              "      <td>139320.500000</td>\n",
              "      <td>1.315642e+00</td>\n",
              "      <td>8.037239e-01</td>\n",
              "      <td>1.027196e+00</td>\n",
              "      <td>7.433413e-01</td>\n",
              "      <td>6.119264e-01</td>\n",
              "      <td>3.985649e-01</td>\n",
              "      <td>5.704361e-01</td>\n",
              "      <td>3.273459e-01</td>\n",
              "      <td>5.971390e-01</td>\n",
              "      <td>4.539234e-01</td>\n",
              "      <td>7.395934e-01</td>\n",
              "      <td>6.182380e-01</td>\n",
              "      <td>6.625050e-01</td>\n",
              "      <td>4.931498e-01</td>\n",
              "      <td>6.488208e-01</td>\n",
              "      <td>5.232963e-01</td>\n",
              "      <td>3.996750e-01</td>\n",
              "      <td>5.008067e-01</td>\n",
              "      <td>4.589494e-01</td>\n",
              "      <td>1.330408e-01</td>\n",
              "      <td>1.863772e-01</td>\n",
              "      <td>5.285536e-01</td>\n",
              "      <td>1.476421e-01</td>\n",
              "      <td>4.395266e-01</td>\n",
              "      <td>3.507156e-01</td>\n",
              "      <td>2.409522e-01</td>\n",
              "      <td>9.104512e-02</td>\n",
              "      <td>7.827995e-02</td>\n",
              "      <td>77.165000</td>\n",
              "      <td>0.000000</td>\n",
              "    </tr>\n",
              "    <tr>\n",
              "      <th>max</th>\n",
              "      <td>172792.000000</td>\n",
              "      <td>2.454930e+00</td>\n",
              "      <td>2.205773e+01</td>\n",
              "      <td>9.382558e+00</td>\n",
              "      <td>1.687534e+01</td>\n",
              "      <td>3.480167e+01</td>\n",
              "      <td>7.330163e+01</td>\n",
              "      <td>1.205895e+02</td>\n",
              "      <td>2.000721e+01</td>\n",
              "      <td>1.559499e+01</td>\n",
              "      <td>2.374514e+01</td>\n",
              "      <td>1.201891e+01</td>\n",
              "      <td>7.848392e+00</td>\n",
              "      <td>7.126883e+00</td>\n",
              "      <td>1.052677e+01</td>\n",
              "      <td>8.877742e+00</td>\n",
              "      <td>1.731511e+01</td>\n",
              "      <td>9.253526e+00</td>\n",
              "      <td>5.041069e+00</td>\n",
              "      <td>5.591971e+00</td>\n",
              "      <td>3.942090e+01</td>\n",
              "      <td>2.720284e+01</td>\n",
              "      <td>1.050309e+01</td>\n",
              "      <td>2.252841e+01</td>\n",
              "      <td>4.584549e+00</td>\n",
              "      <td>7.519589e+00</td>\n",
              "      <td>3.517346e+00</td>\n",
              "      <td>3.161220e+01</td>\n",
              "      <td>3.384781e+01</td>\n",
              "      <td>25691.160000</td>\n",
              "      <td>1.000000</td>\n",
              "    </tr>\n",
              "  </tbody>\n",
              "</table>\n",
              "</div>"
            ],
            "text/plain": [
              "                Time            V1  ...         Amount          Class\n",
              "count  284807.000000  2.848070e+05  ...  284807.000000  284807.000000\n",
              "mean    94813.859575  3.919560e-15  ...      88.349619       0.001727\n",
              "std     47488.145955  1.958696e+00  ...     250.120109       0.041527\n",
              "min         0.000000 -5.640751e+01  ...       0.000000       0.000000\n",
              "25%     54201.500000 -9.203734e-01  ...       5.600000       0.000000\n",
              "50%     84692.000000  1.810880e-02  ...      22.000000       0.000000\n",
              "75%    139320.500000  1.315642e+00  ...      77.165000       0.000000\n",
              "max    172792.000000  2.454930e+00  ...   25691.160000       1.000000\n",
              "\n",
              "[8 rows x 31 columns]"
            ]
          },
          "metadata": {
            "tags": []
          },
          "execution_count": 25
        }
      ]
    },
    {
      "cell_type": "code",
      "metadata": {
        "colab": {
          "base_uri": "https://localhost:8080/"
        },
        "id": "m5-_FDkvGrID",
        "outputId": "8200f05f-9f53-47d9-a57a-6da54f8ed947"
      },
      "source": [
        "normal['Amount'].describe()"
      ],
      "execution_count": 26,
      "outputs": [
        {
          "output_type": "execute_result",
          "data": {
            "text/plain": [
              "count    284315.000000\n",
              "mean         88.291022\n",
              "std         250.105092\n",
              "min           0.000000\n",
              "25%           5.650000\n",
              "50%          22.000000\n",
              "75%          77.050000\n",
              "max       25691.160000\n",
              "Name: Amount, dtype: float64"
            ]
          },
          "metadata": {
            "tags": []
          },
          "execution_count": 26
        }
      ]
    },
    {
      "cell_type": "code",
      "metadata": {
        "colab": {
          "base_uri": "https://localhost:8080/"
        },
        "id": "cCuOQkCIG0jj",
        "outputId": "3f001eff-17ad-48f7-b4e9-d3cf72052516"
      },
      "source": [
        "fraud['Amount'].describe()"
      ],
      "execution_count": 27,
      "outputs": [
        {
          "output_type": "execute_result",
          "data": {
            "text/plain": [
              "count     492.000000\n",
              "mean      122.211321\n",
              "std       256.683288\n",
              "min         0.000000\n",
              "25%         1.000000\n",
              "50%         9.250000\n",
              "75%       105.890000\n",
              "max      2125.870000\n",
              "Name: Amount, dtype: float64"
            ]
          },
          "metadata": {
            "tags": []
          },
          "execution_count": 27
        }
      ]
    },
    {
      "cell_type": "code",
      "metadata": {
        "colab": {
          "base_uri": "https://localhost:8080/",
          "height": 677
        },
        "id": "1q2C1oIEHLmw",
        "outputId": "5505d8d2-d322-43a7-dcb1-747802448ebf"
      },
      "source": [
        "f, (ax1, ax2) = plt.subplots(2, 1, sharex=True, figsize = (10,10) )\n",
        "f.suptitle('Amount per transaction by class')\n",
        "\n",
        "bins = 10\n",
        "\n",
        "ax1.hist(fraud.Amount, bins = bins)\n",
        "ax1.set_title('Fraud')\n",
        "\n",
        "ax2.hist(normal.Amount, bins = bins)\n",
        "ax2.set_title('Normal')\n",
        "\n",
        "ax1.grid()\n",
        "ax2.grid()\n",
        "plt.xlabel('Amount ($)')\n",
        "plt.ylabel('Number of Transactions')\n",
        "plt.xlim((0, 20000))\n",
        "plt.yscale('log')\n",
        "plt.show();"
      ],
      "execution_count": 28,
      "outputs": [
        {
          "output_type": "display_data",
          "data": {
            "image/png": "[encoded data removed]",
            "text/plain": [
              "<Figure size 720x720 with 2 Axes>"
            ]
          },
          "metadata": {
            "tags": [],
            "needs_background": "light"
          }
        }
      ]
    },
    {
      "cell_type": "code",
      "metadata": {
        "colab": {
          "base_uri": "https://localhost:8080/",
          "height": 677
        },
        "id": "040GV5yqHxTn",
        "outputId": "743e5d3f-e023-46e0-a287-44d4433a59ec"
      },
      "source": [
        "f, (ax1, ax2) = plt.subplots(2, 1, sharex=True, figsize=(10,10))\n",
        "f.suptitle('Time of transaction vs Amount by class')\n",
        "\n",
        "ax1.scatter(fraud.Time, fraud.Amount, marker='.')\n",
        "ax1.set_title('Fraud')\n",
        "ax1.grid()\n",
        "ax2.scatter(normal.Time, normal.Amount, marker='.')\n",
        "ax2.set_title('Normal')\n",
        "ax2.grid()\n",
        "plt.xlabel('Time (in Seconds)')\n",
        "plt.ylabel('Amount')\n",
        "plt.show()"
      ],
      "execution_count": 29,
      "outputs": [
        {
          "output_type": "display_data",
          "data": {
            "image/png": "[encoded data removed]",
            "text/plain": [
              "<Figure size 720x720 with 2 Axes>"
            ]
          },
          "metadata": {
            "tags": [],
            "needs_background": "light"
          }
        }
      ]
    },
    {
      "cell_type": "markdown",
      "metadata": {
        "id": "V-GCAeZfIleu"
      },
      "source": [
        "###Data Modelling"
      ]
    },
    {
      "cell_type": "code",
      "metadata": {
        "id": "1PT1VTtVIrC2"
      },
      "source": [
        "data = df.drop(['Time'], axis =1)"
      ],
      "execution_count": 30,
      "outputs": []
    },
    {
      "cell_type": "code",
      "metadata": {
        "colab": {
          "base_uri": "https://localhost:8080/"
        },
        "id": "f-zUA011JTgA",
        "outputId": "379a2930-52d0-454d-8227-0c505df078fb"
      },
      "source": [
        "X_train, X_test = train_test_split(data, test_size=0.2, random_state=42)\n",
        "X_train = X_train[X_train.Class == 0]\n",
        "X_train = X_train.drop(['Class'], axis=1)\n",
        "y_test = X_test['Class']\n",
        "X_test = X_test.drop(['Class'], axis=1)\n",
        "X_train = X_train\n",
        "X_test = X_test\n",
        "print(X_train.shape)\n",
        "\n",
        "print(X_test.shape)\n",
        "print(y_test.shape)"
      ],
      "execution_count": 31,
      "outputs": [
        {
          "output_type": "stream",
          "text": [
            "(227451, 29)\n",
            "(56962, 29)\n",
            "(56962,)\n"
          ],
          "name": "stdout"
        }
      ]
    },
    {
      "cell_type": "code",
      "metadata": {
        "id": "UktDD7VNKOKE"
      },
      "source": [
        "scaler = StandardScaler().fit(X_train.Amount.values.reshape(-1,1))\n",
        "X_train['Amount'] = scaler.transform(X_train.Amount.values.reshape(-1,1))\n",
        "X_test['Amount'] = scaler.transform(X_test.Amount.values.reshape(-1,1))"
      ],
      "execution_count": 33,
      "outputs": []
    },
    {
      "cell_type": "code",
      "metadata": {
        "colab": {
          "base_uri": "https://localhost:8080/"
        },
        "id": "5D7RjNDPKfXe",
        "outputId": "18b61384-3c7a-415a-be40-df28b4699ea4"
      },
      "source": [
        "X_train.shape"
      ],
      "execution_count": 34,
      "outputs": [
        {
          "output_type": "execute_result",
          "data": {
            "text/plain": [
              "(227451, 29)"
            ]
          },
          "metadata": {
            "tags": []
          },
          "execution_count": 34
        }
      ]
    },
    {
      "cell_type": "markdown",
      "metadata": {
        "id": "jP4CFAQBKofw"
      },
      "source": [
        "###Model Training:"
      ]
    },
    {
      "cell_type": "code",
      "metadata": {
        "id": "JvMvHUQhKm_x"
      },
      "source": [
        "from keras.layers import Input, Dense\n",
        "from keras import regularizers\n",
        "from keras.models import Model, load_model\n",
        "from keras.callbacks import ModelCheckpoint, TensorBoard"
      ],
      "execution_count": 35,
      "outputs": []
    },
    {
      "cell_type": "code",
      "metadata": {
        "id": "5d6n4hcCK6O0"
      },
      "source": [
        "input_dim = X_train.shape[1]\n",
        "encoding_dim = 14"
      ],
      "execution_count": 36,
      "outputs": []
    },
    {
      "cell_type": "code",
      "metadata": {
        "id": "9gIRVK_UK_tv"
      },
      "source": [
        "input_layer = Input(shape=(input_dim,))\n",
        "encoder = Dense(encoding_dim, activation=\"tanh\", \n",
        "                activity_regularizer=regularizers.l1(10e-5))(input_layer)\n",
        "encoder = Dense(int(encoding_dim / 2), activation=\"relu\")(encoder)\n",
        "\n",
        "decoder = Dense(int(encoding_dim / 2), activation='tanh')(encoder)\n",
        "decoder = Dense(input_dim, activation='relu')(decoder)\n",
        "\n",
        "autoencoder = Model(inputs=input_layer, outputs=decoder)"
      ],
      "execution_count": 38,
      "outputs": []
    },
    {
      "cell_type": "code",
      "metadata": {
        "colab": {
          "base_uri": "https://localhost:8080/"
        },
        "id": "SHOuHQ1SLJaE",
        "outputId": "bf9f0335-31e1-4b64-9fd9-460a111a80ff"
      },
      "source": [
        "X_train.shape"
      ],
      "execution_count": 39,
      "outputs": [
        {
          "output_type": "execute_result",
          "data": {
            "text/plain": [
              "(227451, 29)"
            ]
          },
          "metadata": {
            "tags": []
          },
          "execution_count": 39
        }
      ]
    },
    {
      "cell_type": "code",
      "metadata": {
        "colab": {
          "base_uri": "https://localhost:8080/"
        },
        "id": "IrncPrhqLM_9",
        "outputId": "c4979949-61b2-427d-f5cd-71bba76e0e81"
      },
      "source": [
        "nb_epoch = 100\n",
        "batch_size = 32\n",
        "\n",
        "autoencoder.compile(optimizer='adam', \n",
        "                    loss='mean_squared_error', \n",
        "                    )\n",
        "\n",
        "checkpointer = ModelCheckpoint(filepath=\"model.h5\",\n",
        "                               verbose=0,\n",
        "                               save_best_only=True)\n",
        "tensorboard = TensorBoard(log_dir='./logs',\n",
        "                          histogram_freq=0,\n",
        "                          write_graph=True,\n",
        "                          write_images=True)\n",
        "\n",
        "history = autoencoder.fit(X_train, X_train,\n",
        "                    epochs=nb_epoch,\n",
        "                    batch_size=batch_size,\n",
        "                    shuffle=True,\n",
        "                    validation_split=0.3,\n",
        "                    verbose=1,\n",
        "                    callbacks=[checkpointer, tensorboard]).history"
      ],
      "execution_count": 40,
      "outputs": [
        {
          "output_type": "stream",
          "text": [
            "Epoch 1/100\n",
            "4976/4976 [==============================] - 10s 2ms/step - loss: 0.8749 - val_loss: 0.8140\n",
            "Epoch 2/100\n",
            "4976/4976 [==============================] - 8s 2ms/step - loss: 0.7708 - val_loss: 0.7824\n",
            "Epoch 3/100\n",
            "4976/4976 [==============================] - 8s 2ms/step - loss: 0.7173 - val_loss: 0.7724\n",
            "Epoch 4/100\n",
            "4976/4976 [==============================] - 9s 2ms/step - loss: 0.7265 - val_loss: 0.7660\n",
            "Epoch 5/100\n",
            "4976/4976 [==============================] - 9s 2ms/step - loss: 0.7251 - val_loss: 0.7580\n",
            "Epoch 6/100\n",
            "4976/4976 [==============================] - 9s 2ms/step - loss: 0.6984 - val_loss: 0.7554\n",
            "Epoch 7/100\n",
            "4976/4976 [==============================] - 8s 2ms/step - loss: 0.7154 - val_loss: 0.7470\n",
            "Epoch 8/100\n",
            "4976/4976 [==============================] - 9s 2ms/step - loss: 0.6879 - val_loss: 0.7452\n",
            "Epoch 9/100\n",
            "4976/4976 [==============================] - 8s 2ms/step - loss: 0.6922 - val_loss: 0.7485\n",
            "Epoch 10/100\n",
            "4976/4976 [==============================] - 9s 2ms/step - loss: 0.6898 - val_loss: 0.7428\n",
            "Epoch 11/100\n",
            "4976/4976 [==============================] - 8s 2ms/step - loss: 0.6973 - val_loss: 0.7419\n",
            "Epoch 12/100\n",
            "4976/4976 [==============================] - 8s 2ms/step - loss: 0.6878 - val_loss: 0.7401\n",
            "Epoch 13/100\n",
            "4976/4976 [==============================] - 8s 2ms/step - loss: 0.6940 - val_loss: 0.7415\n",
            "Epoch 14/100\n",
            "4976/4976 [==============================] - 8s 2ms/step - loss: 0.6975 - val_loss: 0.7410\n",
            "Epoch 15/100\n",
            "4976/4976 [==============================] - 8s 2ms/step - loss: 0.6862 - val_loss: 0.7386\n",
            "Epoch 16/100\n",
            "4976/4976 [==============================] - 8s 2ms/step - loss: 0.6953 - val_loss: 0.7381\n",
            "Epoch 17/100\n",
            "4976/4976 [==============================] - 8s 2ms/step - loss: 0.6807 - val_loss: 0.7397\n",
            "Epoch 18/100\n",
            "4976/4976 [==============================] - 8s 2ms/step - loss: 0.6858 - val_loss: 0.7367\n",
            "Epoch 19/100\n",
            "4976/4976 [==============================] - 8s 2ms/step - loss: 0.6873 - val_loss: 0.7364\n",
            "Epoch 20/100\n",
            "4976/4976 [==============================] - 8s 2ms/step - loss: 0.6945 - val_loss: 0.7357\n",
            "Epoch 21/100\n",
            "4976/4976 [==============================] - 8s 2ms/step - loss: 0.6818 - val_loss: 0.7354\n",
            "Epoch 22/100\n",
            "4976/4976 [==============================] - 9s 2ms/step - loss: 0.6960 - val_loss: 0.7359\n",
            "Epoch 23/100\n",
            "4976/4976 [==============================] - 8s 2ms/step - loss: 0.7003 - val_loss: 0.7359\n",
            "Epoch 24/100\n",
            "4976/4976 [==============================] - 9s 2ms/step - loss: 0.6933 - val_loss: 0.7355\n",
            "Epoch 25/100\n",
            "4976/4976 [==============================] - 9s 2ms/step - loss: 0.6918 - val_loss: 0.7345\n",
            "Epoch 26/100\n",
            "4976/4976 [==============================] - 8s 2ms/step - loss: 0.6724 - val_loss: 0.7342\n",
            "Epoch 27/100\n",
            "4976/4976 [==============================] - 8s 2ms/step - loss: 0.6861 - val_loss: 0.7335\n",
            "Epoch 28/100\n",
            "4976/4976 [==============================] - 8s 2ms/step - loss: 0.6936 - val_loss: 0.7339\n",
            "Epoch 29/100\n",
            "4976/4976 [==============================] - 8s 2ms/step - loss: 0.6776 - val_loss: 0.7340\n",
            "Epoch 30/100\n",
            "4976/4976 [==============================] - 8s 2ms/step - loss: 0.6969 - val_loss: 0.7337\n",
            "Epoch 31/100\n",
            "4976/4976 [==============================] - 9s 2ms/step - loss: 0.6780 - val_loss: 0.7355\n",
            "Epoch 32/100\n",
            "4976/4976 [==============================] - 9s 2ms/step - loss: 0.6753 - val_loss: 0.7321\n",
            "Epoch 33/100\n",
            "4976/4976 [==============================] - 9s 2ms/step - loss: 0.6764 - val_loss: 0.7333\n",
            "Epoch 34/100\n",
            "4976/4976 [==============================] - 9s 2ms/step - loss: 0.6869 - val_loss: 0.7311\n",
            "Epoch 35/100\n",
            "4976/4976 [==============================] - 8s 2ms/step - loss: 0.6817 - val_loss: 0.7331\n",
            "Epoch 36/100\n",
            "4976/4976 [==============================] - 8s 2ms/step - loss: 0.6989 - val_loss: 0.7354\n",
            "Epoch 37/100\n",
            "4976/4976 [==============================] - 8s 2ms/step - loss: 0.6779 - val_loss: 0.7315\n",
            "Epoch 38/100\n",
            "4976/4976 [==============================] - 9s 2ms/step - loss: 0.6867 - val_loss: 0.7322\n",
            "Epoch 39/100\n",
            "4976/4976 [==============================] - 8s 2ms/step - loss: 0.6873 - val_loss: 0.7314\n",
            "Epoch 40/100\n",
            "4976/4976 [==============================] - 9s 2ms/step - loss: 0.6810 - val_loss: 0.7314\n",
            "Epoch 41/100\n",
            "4976/4976 [==============================] - 8s 2ms/step - loss: 0.6804 - val_loss: 0.7312\n",
            "Epoch 42/100\n",
            "4976/4976 [==============================] - 9s 2ms/step - loss: 0.6976 - val_loss: 0.7314\n",
            "Epoch 43/100\n",
            "4976/4976 [==============================] - 9s 2ms/step - loss: 0.6790 - val_loss: 0.7300\n",
            "Epoch 44/100\n",
            "4976/4976 [==============================] - 8s 2ms/step - loss: 0.6967 - val_loss: 0.7303\n",
            "Epoch 45/100\n",
            "4976/4976 [==============================] - 9s 2ms/step - loss: 0.6814 - val_loss: 0.7324\n",
            "Epoch 46/100\n",
            "4976/4976 [==============================] - 9s 2ms/step - loss: 0.6756 - val_loss: 0.7309\n",
            "Epoch 47/100\n",
            "4976/4976 [==============================] - 8s 2ms/step - loss: 0.6896 - val_loss: 0.7337\n",
            "Epoch 48/100\n",
            "4976/4976 [==============================] - 8s 2ms/step - loss: 0.6791 - val_loss: 0.7308\n",
            "Epoch 49/100\n",
            "4976/4976 [==============================] - 9s 2ms/step - loss: 0.6801 - val_loss: 0.7310\n",
            "Epoch 50/100\n",
            "4976/4976 [==============================] - 8s 2ms/step - loss: 0.6700 - val_loss: 0.7301\n",
            "Epoch 51/100\n",
            "4976/4976 [==============================] - 9s 2ms/step - loss: 0.6739 - val_loss: 0.7298\n",
            "Epoch 52/100\n",
            "4976/4976 [==============================] - 9s 2ms/step - loss: 0.6834 - val_loss: 0.7309\n",
            "Epoch 53/100\n",
            "4976/4976 [==============================] - 9s 2ms/step - loss: 0.6934 - val_loss: 0.7297\n",
            "Epoch 54/100\n",
            "4976/4976 [==============================] - 8s 2ms/step - loss: 0.6876 - val_loss: 0.7353\n",
            "Epoch 55/100\n",
            "4976/4976 [==============================] - 8s 2ms/step - loss: 0.6814 - val_loss: 0.7293\n",
            "Epoch 56/100\n",
            "4976/4976 [==============================] - 8s 2ms/step - loss: 0.6835 - val_loss: 0.7303\n",
            "Epoch 57/100\n",
            "4976/4976 [==============================] - 8s 2ms/step - loss: 0.6872 - val_loss: 0.7303\n",
            "Epoch 58/100\n",
            "4976/4976 [==============================] - 9s 2ms/step - loss: 0.6778 - val_loss: 0.7286\n",
            "Epoch 59/100\n",
            "4976/4976 [==============================] - 8s 2ms/step - loss: 0.6721 - val_loss: 0.7295\n",
            "Epoch 60/100\n",
            "4976/4976 [==============================] - 9s 2ms/step - loss: 0.6847 - val_loss: 0.7288\n",
            "Epoch 61/100\n",
            "4976/4976 [==============================] - 8s 2ms/step - loss: 0.6884 - val_loss: 0.7283\n",
            "Epoch 62/100\n",
            "4976/4976 [==============================] - 9s 2ms/step - loss: 0.6857 - val_loss: 0.7284\n",
            "Epoch 63/100\n",
            "4976/4976 [==============================] - 9s 2ms/step - loss: 0.6907 - val_loss: 0.7280\n",
            "Epoch 64/100\n",
            "4976/4976 [==============================] - 9s 2ms/step - loss: 0.6872 - val_loss: 0.7282\n",
            "Epoch 65/100\n",
            "4976/4976 [==============================] - 8s 2ms/step - loss: 0.6872 - val_loss: 0.7289\n",
            "Epoch 66/100\n",
            "4976/4976 [==============================] - 9s 2ms/step - loss: 0.6879 - val_loss: 0.7302\n",
            "Epoch 67/100\n",
            "4976/4976 [==============================] - 9s 2ms/step - loss: 0.7009 - val_loss: 0.7293\n",
            "Epoch 68/100\n",
            "4976/4976 [==============================] - 9s 2ms/step - loss: 0.6806 - val_loss: 0.7283\n",
            "Epoch 69/100\n",
            "4976/4976 [==============================] - 9s 2ms/step - loss: 0.6707 - val_loss: 0.7290\n",
            "Epoch 70/100\n",
            "4976/4976 [==============================] - 9s 2ms/step - loss: 0.6830 - val_loss: 0.7288\n",
            "Epoch 71/100\n",
            "4976/4976 [==============================] - 9s 2ms/step - loss: 0.6687 - val_loss: 0.7308\n",
            "Epoch 72/100\n",
            "4976/4976 [==============================] - 9s 2ms/step - loss: 0.6862 - val_loss: 0.7283\n",
            "Epoch 73/100\n",
            "4976/4976 [==============================] - 9s 2ms/step - loss: 0.6684 - val_loss: 0.7277\n",
            "Epoch 74/100\n",
            "4976/4976 [==============================] - 9s 2ms/step - loss: 0.6927 - val_loss: 0.7295\n",
            "Epoch 75/100\n",
            "4976/4976 [==============================] - 8s 2ms/step - loss: 0.6935 - val_loss: 0.7283\n",
            "Epoch 76/100\n",
            "4976/4976 [==============================] - 9s 2ms/step - loss: 0.6824 - val_loss: 0.7293\n",
            "Epoch 77/100\n",
            "4976/4976 [==============================] - 9s 2ms/step - loss: 0.6894 - val_loss: 0.7294\n",
            "Epoch 78/100\n",
            "4976/4976 [==============================] - 9s 2ms/step - loss: 0.6773 - val_loss: 0.7278\n",
            "Epoch 79/100\n",
            "4976/4976 [==============================] - 9s 2ms/step - loss: 0.6901 - val_loss: 0.7278\n",
            "Epoch 80/100\n",
            "4976/4976 [==============================] - 9s 2ms/step - loss: 0.6910 - val_loss: 0.7277\n",
            "Epoch 81/100\n",
            "4976/4976 [==============================] - 9s 2ms/step - loss: 0.6803 - val_loss: 0.7295\n",
            "Epoch 82/100\n",
            "4976/4976 [==============================] - 9s 2ms/step - loss: 0.6802 - val_loss: 0.7276\n",
            "Epoch 83/100\n",
            "4976/4976 [==============================] - 9s 2ms/step - loss: 0.6799 - val_loss: 0.7293\n",
            "Epoch 84/100\n",
            "4976/4976 [==============================] - 9s 2ms/step - loss: 0.6991 - val_loss: 0.7273\n",
            "Epoch 85/100\n",
            "4976/4976 [==============================] - 8s 2ms/step - loss: 0.6802 - val_loss: 0.7294\n",
            "Epoch 86/100\n",
            "4976/4976 [==============================] - 9s 2ms/step - loss: 0.6767 - val_loss: 0.7279\n",
            "Epoch 87/100\n",
            "4976/4976 [==============================] - 9s 2ms/step - loss: 0.6841 - val_loss: 0.7286\n",
            "Epoch 88/100\n",
            "4976/4976 [==============================] - 9s 2ms/step - loss: 0.6825 - val_loss: 0.7295\n",
            "Epoch 89/100\n",
            "4976/4976 [==============================] - 9s 2ms/step - loss: 0.6838 - val_loss: 0.7293\n",
            "Epoch 90/100\n",
            "4976/4976 [==============================] - 9s 2ms/step - loss: 0.6854 - val_loss: 0.7275\n",
            "Epoch 91/100\n",
            "4976/4976 [==============================] - 9s 2ms/step - loss: 0.6832 - val_loss: 0.7283\n",
            "Epoch 92/100\n",
            "4976/4976 [==============================] - 9s 2ms/step - loss: 0.6800 - val_loss: 0.7282\n",
            "Epoch 93/100\n",
            "4976/4976 [==============================] - 9s 2ms/step - loss: 0.6846 - val_loss: 0.7277\n",
            "Epoch 94/100\n",
            "4976/4976 [==============================] - 9s 2ms/step - loss: 0.6812 - val_loss: 0.7276\n",
            "Epoch 95/100\n",
            "4976/4976 [==============================] - 9s 2ms/step - loss: 0.6818 - val_loss: 0.7273\n",
            "Epoch 96/100\n",
            "4976/4976 [==============================] - 9s 2ms/step - loss: 0.6981 - val_loss: 0.7283\n",
            "Epoch 97/100\n",
            "4976/4976 [==============================] - 9s 2ms/step - loss: 0.6854 - val_loss: 0.7278\n",
            "Epoch 98/100\n",
            "4976/4976 [==============================] - 9s 2ms/step - loss: 0.6933 - val_loss: 0.7274\n",
            "Epoch 99/100\n",
            "4976/4976 [==============================] - 9s 2ms/step - loss: 0.6851 - val_loss: 0.7292\n",
            "Epoch 100/100\n",
            "4976/4976 [==============================] - 9s 2ms/step - loss: 0.6674 - val_loss: 0.7294\n"
          ],
          "name": "stdout"
        }
      ]
    },
    {
      "cell_type": "code",
      "metadata": {
        "colab": {
          "base_uri": "https://localhost:8080/",
          "height": 350
        },
        "id": "1IiLIapDOxVQ",
        "outputId": "299c025f-92c1-4a00-e2cc-68698522998c"
      },
      "source": [
        "plt.figure(figsize = (10,5))\n",
        "plt.plot(history['loss'], label = 'Training Loss')\n",
        "plt.plot(history['val_loss'], label = 'CV Loss')\n",
        "plt.title(\"Model Loss\")\n",
        "plt.xlabel('Epochs')\n",
        "plt.ylabel('Loss')\n",
        "plt.grid()\n",
        "plt.legend()\n",
        "plt.show()"
      ],
      "execution_count": 41,
      "outputs": [
        {
          "output_type": "display_data",
          "data": {
            "image/png": "[encoded data removed]",
            "text/plain": [
              "<Figure size 720x360 with 1 Axes>"
            ]
          },
          "metadata": {
            "tags": [],
            "needs_background": "light"
          }
        }
      ]
    },
    {
      "cell_type": "code",
      "metadata": {
        "id": "wk52SLCVO0AY"
      },
      "source": [
        "autoencoder = load_model('model.h5')"
      ],
      "execution_count": 42,
      "outputs": []
    },
    {
      "cell_type": "markdown",
      "metadata": {
        "id": "oQKQ-kOdPEkR"
      },
      "source": [
        "###Model Evaluation:"
      ]
    },
    {
      "cell_type": "code",
      "metadata": {
        "id": "_FwIAbuDPCT3"
      },
      "source": [
        "predictions = autoencoder.predict(X_test)"
      ],
      "execution_count": 43,
      "outputs": []
    },
    {
      "cell_type": "code",
      "metadata": {
        "colab": {
          "base_uri": "https://localhost:8080/"
        },
        "id": "08BZXWFyPvtC",
        "outputId": "fe7b1309-2c46-4c76-d537-e9f72e369444"
      },
      "source": [
        "predictions.shape"
      ],
      "execution_count": 44,
      "outputs": [
        {
          "output_type": "execute_result",
          "data": {
            "text/plain": [
              "(56962, 29)"
            ]
          },
          "metadata": {
            "tags": []
          },
          "execution_count": 44
        }
      ]
    },
    {
      "cell_type": "code",
      "metadata": {
        "colab": {
          "base_uri": "https://localhost:8080/",
          "height": 173
        },
        "id": "O6aS4fuRP1pz",
        "outputId": "a62a170a-326c-4eb2-8152-098d4dddece3"
      },
      "source": [
        "mse = np.mean(np.power(X_test - predictions, 2), axis=1)\n",
        "error_df = pd.DataFrame({'reconstruction_error': mse, 'true_class':y_test})\n",
        "error_df.groupby(['true_class']).describe()"
      ],
      "execution_count": 45,
      "outputs": [
        {
          "output_type": "execute_result",
          "data": {
            "text/html": [
              "<div>\n",
              "<style scoped>\n",
              "    .dataframe tbody tr th:only-of-type {\n",
              "        vertical-align: middle;\n",
              "    }\n",
              "\n",
              "    .dataframe tbody tr th {\n",
              "        vertical-align: top;\n",
              "    }\n",
              "\n",
              "    .dataframe thead tr th {\n",
              "        text-align: left;\n",
              "    }\n",
              "\n",
              "    .dataframe thead tr:last-of-type th {\n",
              "        text-align: right;\n",
              "    }\n",
              "</style>\n",
              "<table border=\"1\" class=\"dataframe\">\n",
              "  <thead>\n",
              "    <tr>\n",
              "      <th></th>\n",
              "      <th colspan=\"8\" halign=\"left\">reconstruction_error</th>\n",
              "    </tr>\n",
              "    <tr>\n",
              "      <th></th>\n",
              "      <th>count</th>\n",
              "      <th>mean</th>\n",
              "      <th>std</th>\n",
              "      <th>min</th>\n",
              "      <th>25%</th>\n",
              "      <th>50%</th>\n",
              "      <th>75%</th>\n",
              "      <th>max</th>\n",
              "    </tr>\n",
              "    <tr>\n",
              "      <th>true_class</th>\n",
              "      <th></th>\n",
              "      <th></th>\n",
              "      <th></th>\n",
              "      <th></th>\n",
              "      <th></th>\n",
              "      <th></th>\n",
              "      <th></th>\n",
              "      <th></th>\n",
              "    </tr>\n",
              "  </thead>\n",
              "  <tbody>\n",
              "    <tr>\n",
              "      <th>0</th>\n",
              "      <td>56864.0</td>\n",
              "      <td>0.678321</td>\n",
              "      <td>2.535861</td>\n",
              "      <td>0.033860</td>\n",
              "      <td>0.23985</td>\n",
              "      <td>0.398514</td>\n",
              "      <td>0.625023</td>\n",
              "      <td>161.554963</td>\n",
              "    </tr>\n",
              "    <tr>\n",
              "      <th>1</th>\n",
              "      <td>98.0</td>\n",
              "      <td>30.692103</td>\n",
              "      <td>44.910330</td>\n",
              "      <td>0.147959</td>\n",
              "      <td>4.62099</td>\n",
              "      <td>10.613901</td>\n",
              "      <td>51.099347</td>\n",
              "      <td>257.464918</td>\n",
              "    </tr>\n",
              "  </tbody>\n",
              "</table>\n",
              "</div>"
            ],
            "text/plain": [
              "           reconstruction_error             ...                       \n",
              "                          count       mean  ...        75%         max\n",
              "true_class                                  ...                       \n",
              "0                       56864.0   0.678321  ...   0.625023  161.554963\n",
              "1                          98.0  30.692103  ...  51.099347  257.464918\n",
              "\n",
              "[2 rows x 8 columns]"
            ]
          },
          "metadata": {
            "tags": []
          },
          "execution_count": 45
        }
      ]
    },
    {
      "cell_type": "code",
      "metadata": {
        "colab": {
          "base_uri": "https://localhost:8080/",
          "height": 371
        },
        "id": "xDMudUAJP86k",
        "outputId": "a7d9ec2b-4729-45ba-c514-64c948f3b9c2"
      },
      "source": [
        "sns.distplot(error_df[error_df['true_class']==0]['reconstruction_error'], bins = 5, label = 'Normal')\n",
        "sns.distplot(error_df[error_df['true_class']==1]['reconstruction_error'], bins=5, label = 'Fraud')\n",
        "plt.legend()\n",
        "plt.show()"
      ],
      "execution_count": 46,
      "outputs": [
        {
          "output_type": "stream",
          "text": [
            "/usr/local/lib/python3.7/dist-packages/seaborn/distributions.py:2557: FutureWarning: `distplot` is a deprecated function and will be removed in a future version. Please adapt your code to use either `displot` (a figure-level function with similar flexibility) or `histplot` (an axes-level function for histograms).\n",
            "  warnings.warn(msg, FutureWarning)\n",
            "/usr/local/lib/python3.7/dist-packages/seaborn/distributions.py:2557: FutureWarning: `distplot` is a deprecated function and will be removed in a future version. Please adapt your code to use either `displot` (a figure-level function with similar flexibility) or `histplot` (an axes-level function for histograms).\n",
            "  warnings.warn(msg, FutureWarning)\n"
          ],
          "name": "stderr"
        },
        {
          "output_type": "display_data",
          "data": {
            "image/png": "[encoded data removed]",
            "text/plain": [
              "<Figure size 432x288 with 1 Axes>"
            ]
          },
          "metadata": {
            "tags": [],
            "needs_background": "light"
          }
        }
      ]
    },
    {
      "cell_type": "code",
      "metadata": {
        "id": "RuzdUtLOQaq6"
      },
      "source": [
        "from sklearn.metrics import (confusion_matrix, precision_recall_curve, auc,\n",
        "                             roc_curve, recall_score, classification_report, f1_score,\n",
        "                             precision_recall_fscore_support, roc_auc_score)"
      ],
      "execution_count": 47,
      "outputs": []
    },
    {
      "cell_type": "code",
      "metadata": {
        "id": "NlIfxVYxQd9B"
      },
      "source": [
        "threshold = 1.4"
      ],
      "execution_count": 48,
      "outputs": []
    },
    {
      "cell_type": "code",
      "metadata": {
        "colab": {
          "base_uri": "https://localhost:8080/",
          "height": 421
        },
        "id": "Opq8FK5IQgfR",
        "outputId": "a4530862-a5e4-4b96-c07a-de2ebbac811d"
      },
      "source": [
        "groups = error_df.groupby('true_class')\n",
        "fig, ax = plt.subplots(figsize = (20,8))\n",
        "\n",
        "for name, group in groups:\n",
        "    ax.plot(group.index, group.reconstruction_error, marker='+', ms=10, linestyle='',\n",
        "            label= \"Fraud\" if name == 1 else \"Normal\")\n",
        "ax.hlines(threshold, ax.get_xlim()[0], ax.get_xlim()[1], colors=\"r\", zorder=100, label='Threshold')\n",
        "ax.legend()\n",
        "plt.title(\"Reconstruction error for different classes\")\n",
        "plt.ylabel(\"Reconstruction error\")\n",
        "plt.xlabel(\"Data point index\")\n",
        "plt.grid()\n",
        "plt.show();"
      ],
      "execution_count": 49,
      "outputs": [
        {
          "output_type": "display_data",
          "data": {
            "image/png": "[encoded data removed]",
            "text/plain": [
              "<Figure size 1440x576 with 1 Axes>"
            ]
          },
          "metadata": {
            "tags": [],
            "needs_background": "light"
          }
        }
      ]
    },
    {
      "cell_type": "code",
      "metadata": {
        "colab": {
          "base_uri": "https://localhost:8080/",
          "height": 295
        },
        "id": "HTN4Aq1tQjaE",
        "outputId": "08827c6f-1867-4575-c086-3a0a49ec9f8a"
      },
      "source": [
        "fpr, tpr, thres = roc_curve(error_df.true_class, error_df.reconstruction_error)\n",
        "plt.plot(fpr, tpr, label = 'AUC') \n",
        "plt.plot([0,1], [0,1], ':', label = 'Random') \n",
        "plt.legend() \n",
        "plt.grid() \n",
        "plt.ylabel(\"TPR\") \n",
        "plt.xlabel(\"FPR\") \n",
        "plt.title('ROC') \n",
        "plt.show() "
      ],
      "execution_count": 50,
      "outputs": [
        {
          "output_type": "display_data",
          "data": {
            "image/png": "[encoded data removed]",
            "text/plain": [
              "<Figure size 432x288 with 1 Axes>"
            ]
          },
          "metadata": {
            "tags": [],
            "needs_background": "light"
          }
        }
      ]
    },
    {
      "cell_type": "code",
      "metadata": {
        "colab": {
          "base_uri": "https://localhost:8080/",
          "height": 295
        },
        "id": "nTb-pnRMQnLb",
        "outputId": "d04c5f1b-6c69-4cea-f1ec-b9c59610f08e"
      },
      "source": [
        "LABELS = ['Normal', 'Fraud']\n",
        "threshold = 2\n",
        "y_pred = [1 if e > threshold else 0 for e in error_df.reconstruction_error.values]\n",
        "conf_matrix = confusion_matrix(error_df.true_class, y_pred)\n",
        "sns.heatmap(conf_matrix, xticklabels=LABELS, yticklabels=LABELS, annot=True, fmt=\"d\", cmap='Greens');\n",
        "plt.title(\"Confusion matrix\")\n",
        "plt.ylabel('True class')\n",
        "plt.xlabel('Predicted class')\n",
        "plt.show()"
      ],
      "execution_count": 52,
      "outputs": [
        {
          "output_type": "display_data",
          "data": {
            "image/png": "[encoded data removed]",
            "text/plain": [
              "<Figure size 432x288 with 2 Axes>"
            ]
          },
          "metadata": {
            "tags": [],
            "needs_background": "light"
          }
        }
      ]
    },
    {
      "cell_type": "code",
      "metadata": {
        "colab": {
          "base_uri": "https://localhost:8080/"
        },
        "id": "N7lxHu1eQyzJ",
        "outputId": "9717b432-8e62-43f6-83e1-afe740ab8531"
      },
      "source": [
        "print(\"Area under ROC : \", roc_auc_score(error_df.true_class,y_pred ))"
      ],
      "execution_count": 53,
      "outputs": [
        {
          "output_type": "stream",
          "text": [
            "Area under ROC :  0.9011596232471604\n"
          ],
          "name": "stdout"
        }
      ]
    },
    {
      "cell_type": "code",
      "metadata": {
        "colab": {
          "base_uri": "https://localhost:8080/"
        },
        "id": "hCRQLgxnQ4sY",
        "outputId": "a0c13a16-620d-4999-91f5-afb2619a38ea"
      },
      "source": [
        "print(classification_report(error_df.true_class,y_pred))"
      ],
      "execution_count": 54,
      "outputs": [
        {
          "output_type": "stream",
          "text": [
            "              precision    recall  f1-score   support\n",
            "\n",
            "           0       1.00      0.97      0.98     56864\n",
            "           1       0.04      0.84      0.08        98\n",
            "\n",
            "    accuracy                           0.97     56962\n",
            "   macro avg       0.52      0.90      0.53     56962\n",
            "weighted avg       1.00      0.97      0.98     56962\n",
            "\n"
          ],
          "name": "stdout"
        }
      ]
    }
  ]
}