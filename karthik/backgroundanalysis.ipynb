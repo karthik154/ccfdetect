{
  "nbformat": 4,
  "nbformat_minor": 0,
  "metadata": {
    "colab": {
      "name": "backgroundanalysis.ipynb",
      "provenance": [],
      "mount_file_id": "1pnM0Yq7eVqikg0GXlz9n3Tv83ZGR2kWE",
      "authorship_tag": "ABX9TyOBY0d3IqD/lVyMF1/MHRFc",
      "include_colab_link": true
    },
    "kernelspec": {
      "name": "python3",
      "display_name": "Python 3"
    }
  },
  "cells": [
    {
      "cell_type": "markdown",
      "metadata": {
        "id": "view-in-github",
        "colab_type": "text"
      },
      "source": [
        "<a href=\"https://colab.research.google.com/github/karthik154/ccfdetect/blob/master/karthik/backgroundanalysis.ipynb\" target=\"_parent\"><img src=\"https://colab.research.google.com/assets/colab-badge.svg\" alt=\"Open In Colab\"/></a>"
      ]
    },
    {
      "cell_type": "code",
      "metadata": {
        "id": "Nofttt1QUNHb"
      },
      "source": [
        "\n",
        "#importing packages\n",
        "%matplotlib inline\n",
        "import scipy.stats as stats\n",
        "import numpy as np\n",
        "import pandas as pd\n",
        "import matplotlib.pyplot as plt\n",
        "import seaborn as sns\n",
        "plt.style.use('ggplot')"
      ],
      "execution_count": 1,
      "outputs": []
    },
    {
      "cell_type": "code",
      "metadata": {
        "colab": {
          "base_uri": "https://localhost:8080/",
          "height": 224
        },
        "id": "jZU6MAJiUib8",
        "outputId": "f28c361c-a9cb-4f2d-b022-909f6b29423c"
      },
      "source": [
        "df = pd.read_csv('/content/drive/MyDrive/creditcard.csv')\n",
        "df.head()"
      ],
      "execution_count": 3,
      "outputs": [
        {
          "output_type": "execute_result",
          "data": {
            "text/html": [
              "<div>\n",
              "<style scoped>\n",
              "    .dataframe tbody tr th:only-of-type {\n",
              "        vertical-align: middle;\n",
              "    }\n",
              "\n",
              "    .dataframe tbody tr th {\n",
              "        vertical-align: top;\n",
              "    }\n",
              "\n",
              "    .dataframe thead th {\n",
              "        text-align: right;\n",
              "    }\n",
              "</style>\n",
              "<table border=\"1\" class=\"dataframe\">\n",
              "  <thead>\n",
              "    <tr style=\"text-align: right;\">\n",
              "      <th></th>\n",
              "      <th>Time</th>\n",
              "      <th>V1</th>\n",
              "      <th>V2</th>\n",
              "      <th>V3</th>\n",
              "      <th>V4</th>\n",
              "      <th>V5</th>\n",
              "      <th>V6</th>\n",
              "      <th>V7</th>\n",
              "      <th>V8</th>\n",
              "      <th>V9</th>\n",
              "      <th>V10</th>\n",
              "      <th>V11</th>\n",
              "      <th>V12</th>\n",
              "      <th>V13</th>\n",
              "      <th>V14</th>\n",
              "      <th>V15</th>\n",
              "      <th>V16</th>\n",
              "      <th>V17</th>\n",
              "      <th>V18</th>\n",
              "      <th>V19</th>\n",
              "      <th>V20</th>\n",
              "      <th>V21</th>\n",
              "      <th>V22</th>\n",
              "      <th>V23</th>\n",
              "      <th>V24</th>\n",
              "      <th>V25</th>\n",
              "      <th>V26</th>\n",
              "      <th>V27</th>\n",
              "      <th>V28</th>\n",
              "      <th>Amount</th>\n",
              "      <th>Class</th>\n",
              "    </tr>\n",
              "  </thead>\n",
              "  <tbody>\n",
              "    <tr>\n",
              "      <th>0</th>\n",
              "      <td>0.0</td>\n",
              "      <td>-1.359807</td>\n",
              "      <td>-0.072781</td>\n",
              "      <td>2.536347</td>\n",
              "      <td>1.378155</td>\n",
              "      <td>-0.338321</td>\n",
              "      <td>0.462388</td>\n",
              "      <td>0.239599</td>\n",
              "      <td>0.098698</td>\n",
              "      <td>0.363787</td>\n",
              "      <td>0.090794</td>\n",
              "      <td>-0.551600</td>\n",
              "      <td>-0.617801</td>\n",
              "      <td>-0.991390</td>\n",
              "      <td>-0.311169</td>\n",
              "      <td>1.468177</td>\n",
              "      <td>-0.470401</td>\n",
              "      <td>0.207971</td>\n",
              "      <td>0.025791</td>\n",
              "      <td>0.403993</td>\n",
              "      <td>0.251412</td>\n",
              "      <td>-0.018307</td>\n",
              "      <td>0.277838</td>\n",
              "      <td>-0.110474</td>\n",
              "      <td>0.066928</td>\n",
              "      <td>0.128539</td>\n",
              "      <td>-0.189115</td>\n",
              "      <td>0.133558</td>\n",
              "      <td>-0.021053</td>\n",
              "      <td>149.62</td>\n",
              "      <td>0</td>\n",
              "    </tr>\n",
              "    <tr>\n",
              "      <th>1</th>\n",
              "      <td>0.0</td>\n",
              "      <td>1.191857</td>\n",
              "      <td>0.266151</td>\n",
              "      <td>0.166480</td>\n",
              "      <td>0.448154</td>\n",
              "      <td>0.060018</td>\n",
              "      <td>-0.082361</td>\n",
              "      <td>-0.078803</td>\n",
              "      <td>0.085102</td>\n",
              "      <td>-0.255425</td>\n",
              "      <td>-0.166974</td>\n",
              "      <td>1.612727</td>\n",
              "      <td>1.065235</td>\n",
              "      <td>0.489095</td>\n",
              "      <td>-0.143772</td>\n",
              "      <td>0.635558</td>\n",
              "      <td>0.463917</td>\n",
              "      <td>-0.114805</td>\n",
              "      <td>-0.183361</td>\n",
              "      <td>-0.145783</td>\n",
              "      <td>-0.069083</td>\n",
              "      <td>-0.225775</td>\n",
              "      <td>-0.638672</td>\n",
              "      <td>0.101288</td>\n",
              "      <td>-0.339846</td>\n",
              "      <td>0.167170</td>\n",
              "      <td>0.125895</td>\n",
              "      <td>-0.008983</td>\n",
              "      <td>0.014724</td>\n",
              "      <td>2.69</td>\n",
              "      <td>0</td>\n",
              "    </tr>\n",
              "    <tr>\n",
              "      <th>2</th>\n",
              "      <td>1.0</td>\n",
              "      <td>-1.358354</td>\n",
              "      <td>-1.340163</td>\n",
              "      <td>1.773209</td>\n",
              "      <td>0.379780</td>\n",
              "      <td>-0.503198</td>\n",
              "      <td>1.800499</td>\n",
              "      <td>0.791461</td>\n",
              "      <td>0.247676</td>\n",
              "      <td>-1.514654</td>\n",
              "      <td>0.207643</td>\n",
              "      <td>0.624501</td>\n",
              "      <td>0.066084</td>\n",
              "      <td>0.717293</td>\n",
              "      <td>-0.165946</td>\n",
              "      <td>2.345865</td>\n",
              "      <td>-2.890083</td>\n",
              "      <td>1.109969</td>\n",
              "      <td>-0.121359</td>\n",
              "      <td>-2.261857</td>\n",
              "      <td>0.524980</td>\n",
              "      <td>0.247998</td>\n",
              "      <td>0.771679</td>\n",
              "      <td>0.909412</td>\n",
              "      <td>-0.689281</td>\n",
              "      <td>-0.327642</td>\n",
              "      <td>-0.139097</td>\n",
              "      <td>-0.055353</td>\n",
              "      <td>-0.059752</td>\n",
              "      <td>378.66</td>\n",
              "      <td>0</td>\n",
              "    </tr>\n",
              "    <tr>\n",
              "      <th>3</th>\n",
              "      <td>1.0</td>\n",
              "      <td>-0.966272</td>\n",
              "      <td>-0.185226</td>\n",
              "      <td>1.792993</td>\n",
              "      <td>-0.863291</td>\n",
              "      <td>-0.010309</td>\n",
              "      <td>1.247203</td>\n",
              "      <td>0.237609</td>\n",
              "      <td>0.377436</td>\n",
              "      <td>-1.387024</td>\n",
              "      <td>-0.054952</td>\n",
              "      <td>-0.226487</td>\n",
              "      <td>0.178228</td>\n",
              "      <td>0.507757</td>\n",
              "      <td>-0.287924</td>\n",
              "      <td>-0.631418</td>\n",
              "      <td>-1.059647</td>\n",
              "      <td>-0.684093</td>\n",
              "      <td>1.965775</td>\n",
              "      <td>-1.232622</td>\n",
              "      <td>-0.208038</td>\n",
              "      <td>-0.108300</td>\n",
              "      <td>0.005274</td>\n",
              "      <td>-0.190321</td>\n",
              "      <td>-1.175575</td>\n",
              "      <td>0.647376</td>\n",
              "      <td>-0.221929</td>\n",
              "      <td>0.062723</td>\n",
              "      <td>0.061458</td>\n",
              "      <td>123.50</td>\n",
              "      <td>0</td>\n",
              "    </tr>\n",
              "    <tr>\n",
              "      <th>4</th>\n",
              "      <td>2.0</td>\n",
              "      <td>-1.158233</td>\n",
              "      <td>0.877737</td>\n",
              "      <td>1.548718</td>\n",
              "      <td>0.403034</td>\n",
              "      <td>-0.407193</td>\n",
              "      <td>0.095921</td>\n",
              "      <td>0.592941</td>\n",
              "      <td>-0.270533</td>\n",
              "      <td>0.817739</td>\n",
              "      <td>0.753074</td>\n",
              "      <td>-0.822843</td>\n",
              "      <td>0.538196</td>\n",
              "      <td>1.345852</td>\n",
              "      <td>-1.119670</td>\n",
              "      <td>0.175121</td>\n",
              "      <td>-0.451449</td>\n",
              "      <td>-0.237033</td>\n",
              "      <td>-0.038195</td>\n",
              "      <td>0.803487</td>\n",
              "      <td>0.408542</td>\n",
              "      <td>-0.009431</td>\n",
              "      <td>0.798278</td>\n",
              "      <td>-0.137458</td>\n",
              "      <td>0.141267</td>\n",
              "      <td>-0.206010</td>\n",
              "      <td>0.502292</td>\n",
              "      <td>0.219422</td>\n",
              "      <td>0.215153</td>\n",
              "      <td>69.99</td>\n",
              "      <td>0</td>\n",
              "    </tr>\n",
              "  </tbody>\n",
              "</table>\n",
              "</div>"
            ],
            "text/plain": [
              "   Time        V1        V2        V3  ...       V27       V28  Amount  Class\n",
              "0   0.0 -1.359807 -0.072781  2.536347  ...  0.133558 -0.021053  149.62      0\n",
              "1   0.0  1.191857  0.266151  0.166480  ... -0.008983  0.014724    2.69      0\n",
              "2   1.0 -1.358354 -1.340163  1.773209  ... -0.055353 -0.059752  378.66      0\n",
              "3   1.0 -0.966272 -0.185226  1.792993  ...  0.062723  0.061458  123.50      0\n",
              "4   2.0 -1.158233  0.877737  1.548718  ...  0.219422  0.215153   69.99      0\n",
              "\n",
              "[5 rows x 31 columns]"
            ]
          },
          "metadata": {
            "tags": []
          },
          "execution_count": 3
        }
      ]
    },
    {
      "cell_type": "code",
      "metadata": {
        "colab": {
          "base_uri": "https://localhost:8080/"
        },
        "id": "TYuSJA8iU2TA",
        "outputId": "bba85e15-f490-4f08-fa74-399a1c425041"
      },
      "source": [
        "print(\"The dataframe has {} rows and {} columns\".format(df.shape[0],df.shape[1]))"
      ],
      "execution_count": 4,
      "outputs": [
        {
          "output_type": "stream",
          "text": [
            "The dataframe has 284807 rows and 31 columns\n"
          ],
          "name": "stdout"
        }
      ]
    },
    {
      "cell_type": "markdown",
      "metadata": {
        "id": "X57erNZzU8En"
      },
      "source": [
        "#sample data"
      ]
    },
    {
      "cell_type": "code",
      "metadata": {
        "colab": {
          "base_uri": "https://localhost:8080/",
          "height": 224
        },
        "id": "x1RDPXLhU6Zi",
        "outputId": "f5e4455f-ef84-424a-a507-91f8ee2058d0"
      },
      "source": [
        "df.sample(5)"
      ],
      "execution_count": 5,
      "outputs": [
        {
          "output_type": "execute_result",
          "data": {
            "text/html": [
              "<div>\n",
              "<style scoped>\n",
              "    .dataframe tbody tr th:only-of-type {\n",
              "        vertical-align: middle;\n",
              "    }\n",
              "\n",
              "    .dataframe tbody tr th {\n",
              "        vertical-align: top;\n",
              "    }\n",
              "\n",
              "    .dataframe thead th {\n",
              "        text-align: right;\n",
              "    }\n",
              "</style>\n",
              "<table border=\"1\" class=\"dataframe\">\n",
              "  <thead>\n",
              "    <tr style=\"text-align: right;\">\n",
              "      <th></th>\n",
              "      <th>Time</th>\n",
              "      <th>V1</th>\n",
              "      <th>V2</th>\n",
              "      <th>V3</th>\n",
              "      <th>V4</th>\n",
              "      <th>V5</th>\n",
              "      <th>V6</th>\n",
              "      <th>V7</th>\n",
              "      <th>V8</th>\n",
              "      <th>V9</th>\n",
              "      <th>V10</th>\n",
              "      <th>V11</th>\n",
              "      <th>V12</th>\n",
              "      <th>V13</th>\n",
              "      <th>V14</th>\n",
              "      <th>V15</th>\n",
              "      <th>V16</th>\n",
              "      <th>V17</th>\n",
              "      <th>V18</th>\n",
              "      <th>V19</th>\n",
              "      <th>V20</th>\n",
              "      <th>V21</th>\n",
              "      <th>V22</th>\n",
              "      <th>V23</th>\n",
              "      <th>V24</th>\n",
              "      <th>V25</th>\n",
              "      <th>V26</th>\n",
              "      <th>V27</th>\n",
              "      <th>V28</th>\n",
              "      <th>Amount</th>\n",
              "      <th>Class</th>\n",
              "    </tr>\n",
              "  </thead>\n",
              "  <tbody>\n",
              "    <tr>\n",
              "      <th>108008</th>\n",
              "      <td>70717.0</td>\n",
              "      <td>1.192016</td>\n",
              "      <td>-0.055240</td>\n",
              "      <td>0.713448</td>\n",
              "      <td>-0.029635</td>\n",
              "      <td>-0.717923</td>\n",
              "      <td>-0.727805</td>\n",
              "      <td>-0.213295</td>\n",
              "      <td>-0.092442</td>\n",
              "      <td>0.262737</td>\n",
              "      <td>-0.283720</td>\n",
              "      <td>0.406177</td>\n",
              "      <td>0.786682</td>\n",
              "      <td>0.748529</td>\n",
              "      <td>0.042892</td>\n",
              "      <td>1.404500</td>\n",
              "      <td>-0.013035</td>\n",
              "      <td>-0.005465</td>\n",
              "      <td>-1.057618</td>\n",
              "      <td>-0.462264</td>\n",
              "      <td>-0.036943</td>\n",
              "      <td>-0.068815</td>\n",
              "      <td>-0.147590</td>\n",
              "      <td>0.146586</td>\n",
              "      <td>0.469825</td>\n",
              "      <td>0.019455</td>\n",
              "      <td>0.910710</td>\n",
              "      <td>-0.051690</td>\n",
              "      <td>0.013012</td>\n",
              "      <td>15.37</td>\n",
              "      <td>0</td>\n",
              "    </tr>\n",
              "    <tr>\n",
              "      <th>253941</th>\n",
              "      <td>156502.0</td>\n",
              "      <td>-2.602799</td>\n",
              "      <td>-1.186547</td>\n",
              "      <td>0.731713</td>\n",
              "      <td>-2.947630</td>\n",
              "      <td>0.224534</td>\n",
              "      <td>0.155787</td>\n",
              "      <td>-0.537510</td>\n",
              "      <td>-1.672135</td>\n",
              "      <td>-1.597629</td>\n",
              "      <td>0.987552</td>\n",
              "      <td>-1.751593</td>\n",
              "      <td>-1.316976</td>\n",
              "      <td>0.234805</td>\n",
              "      <td>-0.811502</td>\n",
              "      <td>-0.655630</td>\n",
              "      <td>-0.021782</td>\n",
              "      <td>0.148903</td>\n",
              "      <td>-0.343702</td>\n",
              "      <td>-0.012339</td>\n",
              "      <td>-1.617971</td>\n",
              "      <td>0.412947</td>\n",
              "      <td>-2.081564</td>\n",
              "      <td>1.170077</td>\n",
              "      <td>-0.143050</td>\n",
              "      <td>0.756599</td>\n",
              "      <td>-0.510770</td>\n",
              "      <td>0.604165</td>\n",
              "      <td>-0.144470</td>\n",
              "      <td>52.50</td>\n",
              "      <td>0</td>\n",
              "    </tr>\n",
              "    <tr>\n",
              "      <th>270651</th>\n",
              "      <td>164191.0</td>\n",
              "      <td>-1.249292</td>\n",
              "      <td>0.337817</td>\n",
              "      <td>-0.723091</td>\n",
              "      <td>-1.174234</td>\n",
              "      <td>1.479457</td>\n",
              "      <td>-1.119225</td>\n",
              "      <td>0.842071</td>\n",
              "      <td>0.051831</td>\n",
              "      <td>-0.130013</td>\n",
              "      <td>-0.908408</td>\n",
              "      <td>0.857386</td>\n",
              "      <td>0.747669</td>\n",
              "      <td>-0.086504</td>\n",
              "      <td>-0.790528</td>\n",
              "      <td>-1.736063</td>\n",
              "      <td>0.950952</td>\n",
              "      <td>-0.300828</td>\n",
              "      <td>0.147656</td>\n",
              "      <td>-1.024485</td>\n",
              "      <td>-0.659300</td>\n",
              "      <td>-0.222508</td>\n",
              "      <td>-0.297963</td>\n",
              "      <td>0.824555</td>\n",
              "      <td>0.654609</td>\n",
              "      <td>-1.166699</td>\n",
              "      <td>-0.283851</td>\n",
              "      <td>-0.198457</td>\n",
              "      <td>-0.123294</td>\n",
              "      <td>1.98</td>\n",
              "      <td>0</td>\n",
              "    </tr>\n",
              "    <tr>\n",
              "      <th>128348</th>\n",
              "      <td>78679.0</td>\n",
              "      <td>1.077449</td>\n",
              "      <td>-0.098128</td>\n",
              "      <td>0.414848</td>\n",
              "      <td>0.352648</td>\n",
              "      <td>-0.202249</td>\n",
              "      <td>0.236337</td>\n",
              "      <td>-0.247728</td>\n",
              "      <td>0.275023</td>\n",
              "      <td>-0.034301</td>\n",
              "      <td>0.020875</td>\n",
              "      <td>1.747769</td>\n",
              "      <td>0.610674</td>\n",
              "      <td>-0.970146</td>\n",
              "      <td>0.725540</td>\n",
              "      <td>0.978419</td>\n",
              "      <td>-0.026852</td>\n",
              "      <td>-0.029835</td>\n",
              "      <td>-0.828756</td>\n",
              "      <td>-0.521739</td>\n",
              "      <td>-0.156284</td>\n",
              "      <td>-0.149511</td>\n",
              "      <td>-0.524324</td>\n",
              "      <td>0.177612</td>\n",
              "      <td>-0.316731</td>\n",
              "      <td>-0.033427</td>\n",
              "      <td>0.242877</td>\n",
              "      <td>-0.020898</td>\n",
              "      <td>0.002992</td>\n",
              "      <td>30.98</td>\n",
              "      <td>0</td>\n",
              "    </tr>\n",
              "    <tr>\n",
              "      <th>56480</th>\n",
              "      <td>47447.0</td>\n",
              "      <td>-0.745337</td>\n",
              "      <td>-0.090916</td>\n",
              "      <td>0.817571</td>\n",
              "      <td>-2.066888</td>\n",
              "      <td>1.996165</td>\n",
              "      <td>3.839686</td>\n",
              "      <td>-0.382162</td>\n",
              "      <td>1.140799</td>\n",
              "      <td>0.491701</td>\n",
              "      <td>-1.163013</td>\n",
              "      <td>-0.837209</td>\n",
              "      <td>0.067317</td>\n",
              "      <td>-0.273275</td>\n",
              "      <td>-0.542850</td>\n",
              "      <td>-0.812288</td>\n",
              "      <td>0.411372</td>\n",
              "      <td>-0.640073</td>\n",
              "      <td>-0.090943</td>\n",
              "      <td>0.178984</td>\n",
              "      <td>0.109027</td>\n",
              "      <td>-0.182325</td>\n",
              "      <td>-0.597973</td>\n",
              "      <td>-0.087535</td>\n",
              "      <td>1.058750</td>\n",
              "      <td>0.020596</td>\n",
              "      <td>0.795721</td>\n",
              "      <td>0.008312</td>\n",
              "      <td>0.088365</td>\n",
              "      <td>34.66</td>\n",
              "      <td>0</td>\n",
              "    </tr>\n",
              "  </tbody>\n",
              "</table>\n",
              "</div>"
            ],
            "text/plain": [
              "            Time        V1        V2  ...       V28  Amount  Class\n",
              "108008   70717.0  1.192016 -0.055240  ...  0.013012   15.37      0\n",
              "253941  156502.0 -2.602799 -1.186547  ... -0.144470   52.50      0\n",
              "270651  164191.0 -1.249292  0.337817  ... -0.123294    1.98      0\n",
              "128348   78679.0  1.077449 -0.098128  ...  0.002992   30.98      0\n",
              "56480    47447.0 -0.745337 -0.090916  ...  0.088365   34.66      0\n",
              "\n",
              "[5 rows x 31 columns]"
            ]
          },
          "metadata": {
            "tags": []
          },
          "execution_count": 5
        }
      ]
    },
    {
      "cell_type": "code",
      "metadata": {
        "colab": {
          "base_uri": "https://localhost:8080/"
        },
        "id": "2JLqFsl6VDiW",
        "outputId": "30bdbf9b-f2bb-4abb-8d0c-0d6d287b4cfe"
      },
      "source": [
        "\n",
        "#info\n",
        "df.info()"
      ],
      "execution_count": 6,
      "outputs": [
        {
          "output_type": "stream",
          "text": [
            "<class 'pandas.core.frame.DataFrame'>\n",
            "RangeIndex: 284807 entries, 0 to 284806\n",
            "Data columns (total 31 columns):\n",
            " #   Column  Non-Null Count   Dtype  \n",
            "---  ------  --------------   -----  \n",
            " 0   Time    284807 non-null  float64\n",
            " 1   V1      284807 non-null  float64\n",
            " 2   V2      284807 non-null  float64\n",
            " 3   V3      284807 non-null  float64\n",
            " 4   V4      284807 non-null  float64\n",
            " 5   V5      284807 non-null  float64\n",
            " 6   V6      284807 non-null  float64\n",
            " 7   V7      284807 non-null  float64\n",
            " 8   V8      284807 non-null  float64\n",
            " 9   V9      284807 non-null  float64\n",
            " 10  V10     284807 non-null  float64\n",
            " 11  V11     284807 non-null  float64\n",
            " 12  V12     284807 non-null  float64\n",
            " 13  V13     284807 non-null  float64\n",
            " 14  V14     284807 non-null  float64\n",
            " 15  V15     284807 non-null  float64\n",
            " 16  V16     284807 non-null  float64\n",
            " 17  V17     284807 non-null  float64\n",
            " 18  V18     284807 non-null  float64\n",
            " 19  V19     284807 non-null  float64\n",
            " 20  V20     284807 non-null  float64\n",
            " 21  V21     284807 non-null  float64\n",
            " 22  V22     284807 non-null  float64\n",
            " 23  V23     284807 non-null  float64\n",
            " 24  V24     284807 non-null  float64\n",
            " 25  V25     284807 non-null  float64\n",
            " 26  V26     284807 non-null  float64\n",
            " 27  V27     284807 non-null  float64\n",
            " 28  V28     284807 non-null  float64\n",
            " 29  Amount  284807 non-null  float64\n",
            " 30  Class   284807 non-null  int64  \n",
            "dtypes: float64(30), int64(1)\n",
            "memory usage: 67.4 MB\n"
          ],
          "name": "stdout"
        }
      ]
    },
    {
      "cell_type": "code",
      "metadata": {
        "colab": {
          "base_uri": "https://localhost:8080/",
          "height": 297
        },
        "id": "z3Yg0FD-VJFj",
        "outputId": "06dc8e63-3054-4dbe-c74e-7b84a1147e3d"
      },
      "source": [
        "\n",
        "#leaving non anonymized attributes\n",
        "pd.set_option('precision',3)\n",
        "df.loc[:,['Time','Amount']].describe()"
      ],
      "execution_count": 7,
      "outputs": [
        {
          "output_type": "execute_result",
          "data": {
            "text/html": [
              "<div>\n",
              "<style scoped>\n",
              "    .dataframe tbody tr th:only-of-type {\n",
              "        vertical-align: middle;\n",
              "    }\n",
              "\n",
              "    .dataframe tbody tr th {\n",
              "        vertical-align: top;\n",
              "    }\n",
              "\n",
              "    .dataframe thead th {\n",
              "        text-align: right;\n",
              "    }\n",
              "</style>\n",
              "<table border=\"1\" class=\"dataframe\">\n",
              "  <thead>\n",
              "    <tr style=\"text-align: right;\">\n",
              "      <th></th>\n",
              "      <th>Time</th>\n",
              "      <th>Amount</th>\n",
              "    </tr>\n",
              "  </thead>\n",
              "  <tbody>\n",
              "    <tr>\n",
              "      <th>count</th>\n",
              "      <td>284807.000</td>\n",
              "      <td>284807.000</td>\n",
              "    </tr>\n",
              "    <tr>\n",
              "      <th>mean</th>\n",
              "      <td>94813.860</td>\n",
              "      <td>88.350</td>\n",
              "    </tr>\n",
              "    <tr>\n",
              "      <th>std</th>\n",
              "      <td>47488.146</td>\n",
              "      <td>250.120</td>\n",
              "    </tr>\n",
              "    <tr>\n",
              "      <th>min</th>\n",
              "      <td>0.000</td>\n",
              "      <td>0.000</td>\n",
              "    </tr>\n",
              "    <tr>\n",
              "      <th>25%</th>\n",
              "      <td>54201.500</td>\n",
              "      <td>5.600</td>\n",
              "    </tr>\n",
              "    <tr>\n",
              "      <th>50%</th>\n",
              "      <td>84692.000</td>\n",
              "      <td>22.000</td>\n",
              "    </tr>\n",
              "    <tr>\n",
              "      <th>75%</th>\n",
              "      <td>139320.500</td>\n",
              "      <td>77.165</td>\n",
              "    </tr>\n",
              "    <tr>\n",
              "      <th>max</th>\n",
              "      <td>172792.000</td>\n",
              "      <td>25691.160</td>\n",
              "    </tr>\n",
              "  </tbody>\n",
              "</table>\n",
              "</div>"
            ],
            "text/plain": [
              "             Time      Amount\n",
              "count  284807.000  284807.000\n",
              "mean    94813.860      88.350\n",
              "std     47488.146     250.120\n",
              "min         0.000       0.000\n",
              "25%     54201.500       5.600\n",
              "50%     84692.000      22.000\n",
              "75%    139320.500      77.165\n",
              "max    172792.000   25691.160"
            ]
          },
          "metadata": {
            "tags": []
          },
          "execution_count": 7
        }
      ]
    },
    {
      "cell_type": "code",
      "metadata": {
        "colab": {
          "base_uri": "https://localhost:8080/",
          "height": 588
        },
        "id": "KeMYZPLLVKka",
        "outputId": "ad9d3a6c-f831-4341-8861-98016ddde923"
      },
      "source": [
        "\n",
        "#visualizations of Time\n",
        "plt.figure(figsize=(10,8))\n",
        "plt.title(\"'Distribution of Time Feature\")\n",
        "sns.distplot(df.Time)"
      ],
      "execution_count": 8,
      "outputs": [
        {
          "output_type": "stream",
          "text": [
            "/usr/local/lib/python3.7/dist-packages/seaborn/distributions.py:2557: FutureWarning: `distplot` is a deprecated function and will be removed in a future version. Please adapt your code to use either `displot` (a figure-level function with similar flexibility) or `histplot` (an axes-level function for histograms).\n",
            "  warnings.warn(msg, FutureWarning)\n"
          ],
          "name": "stderr"
        },
        {
          "output_type": "execute_result",
          "data": {
            "text/plain": [
              "<matplotlib.axes._subplots.AxesSubplot at 0x7f6ae75cecd0>"
            ]
          },
          "metadata": {
            "tags": []
          },
          "execution_count": 8
        },
        {
          "output_type": "display_data",
          "data": {
            "image/png": "[encoded data removed]",
            "text/plain": [
              "<Figure size 720x576 with 1 Axes>"
            ]
          },
          "metadata": {
            "tags": [],
            "needs_background": "light"
          }
        }
      ]
    },
    {
      "cell_type": "code",
      "metadata": {
        "colab": {
          "base_uri": "https://localhost:8080/",
          "height": 588
        },
        "id": "oRk8eGfoVQrB",
        "outputId": "bf701b16-202c-4f90-b9c1-d62c5ae96d05"
      },
      "source": [
        "plt.figure(figsize=(10,8))\n",
        "plt.title(\"'Distribution of Amount Feature\")\n",
        "sns.distplot(df.Amount)"
      ],
      "execution_count": 9,
      "outputs": [
        {
          "output_type": "stream",
          "text": [
            "/usr/local/lib/python3.7/dist-packages/seaborn/distributions.py:2557: FutureWarning: `distplot` is a deprecated function and will be removed in a future version. Please adapt your code to use either `displot` (a figure-level function with similar flexibility) or `histplot` (an axes-level function for histograms).\n",
            "  warnings.warn(msg, FutureWarning)\n"
          ],
          "name": "stderr"
        },
        {
          "output_type": "execute_result",
          "data": {
            "text/plain": [
              "<matplotlib.axes._subplots.AxesSubplot at 0x7f6add498890>"
            ]
          },
          "metadata": {
            "tags": []
          },
          "execution_count": 9
        },
        {
          "output_type": "display_data",
          "data": {
            "image/png": "[encoded data removed]",
            "text/plain": [
              "<Figure size 720x576 with 1 Axes>"
            ]
          },
          "metadata": {
            "tags": [],
            "needs_background": "light"
          }
        }
      ]
    },
    {
      "cell_type": "code",
      "metadata": {
        "colab": {
          "base_uri": "https://localhost:8080/"
        },
        "id": "Qc-4Q60-VVsR",
        "outputId": "dc0863af-b03f-484c-e743-8a5e3a01b171"
      },
      "source": [
        "\n",
        "#no. of fraud and non fraud data points\n",
        "counts = df.Class.value_counts()\n",
        "normal = counts[0]\n",
        "fraudulent = counts[1]\n",
        "perc_normal = (normal/(normal+fraudulent))*100\n",
        "perc_fraudulent = (fraudulent/(normal+fraudulent))*100\n",
        "print('There were {} non-fraudulent transactions ({:.3f}%) and {} fraudulent transactions ({:.3f}%).'.format(normal, perc_normal, fraudulent, perc_fraudulent))"
      ],
      "execution_count": 10,
      "outputs": [
        {
          "output_type": "stream",
          "text": [
            "There were 284315 non-fraudulent transactions (99.827%) and 492 fraudulent transactions (0.173%).\n"
          ],
          "name": "stdout"
        }
      ]
    },
    {
      "cell_type": "code",
      "metadata": {
        "colab": {
          "base_uri": "https://localhost:8080/",
          "height": 425
        },
        "id": "TyCN3BSiVhs6",
        "outputId": "288cad50-adf3-4e89-99fd-5bf0caab2a39"
      },
      "source": [
        "plt.figure(figsize=(8,6))\n",
        "sns.barplot(x=counts.index, y=counts)\n",
        "plt.title('Count of Fraudulent vs. Non-Fraudulent Transactions')\n",
        "plt.ylabel('Count')\n",
        "plt.xlabel('Class (0:Non-Fraudulent, 1:Fraudulent)')"
      ],
      "execution_count": 12,
      "outputs": [
        {
          "output_type": "execute_result",
          "data": {
            "text/plain": [
              "Text(0.5, 0, 'Class (0:Non-Fraudulent, 1:Fraudulent)')"
            ]
          },
          "metadata": {
            "tags": []
          },
          "execution_count": 12
        },
        {
          "output_type": "display_data",
          "data": {
            "image/png": "[encoded data removed]",
            "text/plain": [
              "<Figure size 576x432 with 1 Axes>"
            ]
          },
          "metadata": {
            "tags": [],
            "needs_background": "light"
          }
        }
      ]
    }
  ]
}